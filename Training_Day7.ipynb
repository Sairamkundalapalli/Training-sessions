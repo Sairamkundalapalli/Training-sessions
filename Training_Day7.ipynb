{
  "nbformat": 4,
  "nbformat_minor": 0,
  "metadata": {
    "colab": {
      "provenance": [],
      "authorship_tag": "ABX9TyM2TT7CoIc/CuO0vDMwGzQ8",
      "include_colab_link": true
    },
    "kernelspec": {
      "name": "python3",
      "display_name": "Python 3"
    },
    "language_info": {
      "name": "python"
    }
  },
  "cells": [
    {
      "cell_type": "markdown",
      "metadata": {
        "id": "view-in-github",
        "colab_type": "text"
      },
      "source": [
        "<a href=\"https://colab.research.google.com/github/Sairamkundalapalli/Training-sessions/blob/main/Training_Day7.ipynb\" target=\"_parent\"><img src=\"https://colab.research.google.com/assets/colab-badge.svg\" alt=\"Open In Colab\"/></a>"
      ]
    },
    {
      "cell_type": "code",
      "source": [
        "'''a=\"apple\"\n",
        "b=list(a)\n",
        "b.sort()\n",
        "a=\"\".join(b)\n",
        "print(a)'''\n",
        "\n",
        "'''def s(c):\n",
        "  if c==0:\n",
        "    return 0\n",
        "  return c%10+s(c//10)\n",
        "a=[1,2,3,4,5]\n",
        "b=[str(i) for i in a]\n",
        "a=\"\".join(b)\n",
        "c=int(a)\n",
        "s(c)'''\n",
        "\n",
        "'''h=int(input())\n",
        "cy,dy=0,0\n",
        "if h>=1:\n",
        "  if h==1:\n",
        "    cy+=15\n",
        "    dy+=15\n",
        "  elif h==2:\n",
        "    cy+=24\n",
        "    dy+=24\n",
        "  else:\n",
        "    cy+=(15+9+(h-2)*4)\n",
        "    dy+=(15+9+(h-2)*5)\n",
        "print([h,cy,dy])'''\n",
        "\n",
        "n=int(input())\n",
        "if (n%4==0 and n%100!=0) or n%400==0:\n",
        "  days=366\n",
        "  print(days)\n",
        "else:\n",
        "  days=365\n",
        "  print(days)"
      ],
      "metadata": {
        "id": "DaQUDP2OjarE",
        "colab": {
          "base_uri": "https://localhost:8080/"
        },
        "outputId": "8db3b0f2-5569-4922-a73b-29a2c0afddf1"
      },
      "execution_count": null,
      "outputs": [
        {
          "output_type": "stream",
          "name": "stdout",
          "text": [
            "1980\n",
            "366\n"
          ]
        }
      ]
    },
    {
      "cell_type": "markdown",
      "source": [
        "#*OOPS*#"
      ],
      "metadata": {
        "id": "t8VoXH_ZnCIe"
      }
    },
    {
      "cell_type": "markdown",
      "source": [
        "# **Constructor and Methods**"
      ],
      "metadata": {
        "id": "AukzzwQ3S3Nb"
      }
    },
    {
      "cell_type": "code",
      "source": [
        "# object  and class\n",
        "# -----------> class is plan or blueprint which contains methods and objects.class class_name\n",
        "# ----------->Object for one class we can create n objects.\n",
        "#  instant,local and global variable\n",
        "#  instant method,static method,class method\n",
        "#   object is the instance variable to the class which we can access methods from the class\n",
        "\n",
        "#create an instance variable\n",
        "class arithmetic:\n",
        "  def add(self,a,b):\n",
        "    return a+b\n",
        "  def sub(self,a,b):\n",
        "    return a-b\n",
        "  def mul(self,a,b):\n",
        "    return a*b\n",
        "  def div(self,a,b):\n",
        "    return a/b\n",
        "obj=arithmetic()\n",
        "a=obj.add(10,20)\n",
        "b=obj.sub(10,20)\n",
        "c=obj.mul(10,20)\n",
        "d=obj.div(10,20)\n",
        "print(a,b,c,d)\n"
      ],
      "metadata": {
        "colab": {
          "base_uri": "https://localhost:8080/"
        },
        "id": "jUQ4VUmsnLED",
        "outputId": "dd502e01-a03e-45bf-b7a9-c9a0b2d967ea"
      },
      "execution_count": null,
      "outputs": [
        {
          "output_type": "stream",
          "name": "stdout",
          "text": [
            "30 -10 200 0.5\n"
          ]
        }
      ]
    },
    {
      "cell_type": "code",
      "source": [
        "#creating a global variable\n",
        "a=10\n",
        "b=20\n",
        "class arithmetic:\n",
        "  def add(self):         #instance method\n",
        "    return a+b\n",
        "  def sub(self):\n",
        "    return a-b\n",
        "o=arithmetic()\n",
        "a1=o.add()\n",
        "b2=o.sub()\n",
        "print(a1,b2)"
      ],
      "metadata": {
        "colab": {
          "base_uri": "https://localhost:8080/"
        },
        "id": "f_J1M7cxtnV5",
        "outputId": "15359af8-9b71-4b91-e128-477318911335"
      },
      "execution_count": null,
      "outputs": [
        {
          "output_type": "stream",
          "name": "stdout",
          "text": [
            "30 -10\n"
          ]
        }
      ]
    },
    {
      "cell_type": "code",
      "source": [
        "#creating a local variable\n",
        "class arithmetic:\n",
        "  def add(self):\n",
        "    a=10\n",
        "    b=20\n",
        "    return a+b\n",
        "  def sub(self,a,b):\n",
        "    return a-b\n",
        "o=arithmetic()\n",
        "a1=o.add()\n",
        "b2=o.sub(10,20)\n",
        "print(a1,b2)"
      ],
      "metadata": {
        "colab": {
          "base_uri": "https://localhost:8080/"
        },
        "id": "Tt6decRPvVw3",
        "outputId": "927134a5-b69c-42f5-f63c-a803f68b7aaa"
      },
      "execution_count": null,
      "outputs": [
        {
          "output_type": "stream",
          "name": "stdout",
          "text": [
            "30 -10\n"
          ]
        }
      ]
    },
    {
      "cell_type": "markdown",
      "source": [
        "Methods"
      ],
      "metadata": {
        "id": "w2dTE1wox81b"
      }
    },
    {
      "cell_type": "code",
      "source": [
        "# instance method we pass a keyword self in it.\n",
        "class arithmetic:\n",
        "  def add(self,a,b):         #instance method\n",
        "    return a+b\n",
        "o=arithmetic()\n",
        "print(o.add(10,20))"
      ],
      "metadata": {
        "colab": {
          "base_uri": "https://localhost:8080/"
        },
        "id": "3xb__ScQx-iN",
        "outputId": "1110534e-0b90-47bd-fa0f-189388210e4d"
      },
      "execution_count": null,
      "outputs": [
        {
          "output_type": "stream",
          "name": "stdout",
          "text": [
            "30\n"
          ]
        }
      ]
    },
    {
      "cell_type": "code",
      "source": [
        "# Static method we will not pass a keyword self in it\n",
        "class arithmetic:\n",
        "  @staticmethod\n",
        "  def add():\n",
        "     a=10\n",
        "     b=20\n",
        "     return a+b\n",
        "print(arithmetic.add())\n"
      ],
      "metadata": {
        "colab": {
          "base_uri": "https://localhost:8080/"
        },
        "id": "dyUOcXO7zOnT",
        "outputId": "d8ec5e31-d08d-47c8-bc03-76c8ecc4d539"
      },
      "execution_count": null,
      "outputs": [
        {
          "output_type": "stream",
          "name": "stdout",
          "text": [
            "30\n"
          ]
        }
      ]
    },
    {
      "cell_type": "code",
      "source": [
        "# instance method we pass a keyword cls in it.\n",
        "class arithmetic:\n",
        "  def add(cls,a,b):         #cls method\n",
        "    return a+b\n",
        "o=arithmetic()\n",
        "print(o.add(10,20))"
      ],
      "metadata": {
        "colab": {
          "base_uri": "https://localhost:8080/"
        },
        "id": "qS7DgBa_1HZa",
        "outputId": "4d5d5472-4ef9-45f5-88b0-8ccc6c93510f"
      },
      "execution_count": null,
      "outputs": [
        {
          "output_type": "stream",
          "name": "stdout",
          "text": [
            "30\n"
          ]
        }
      ]
    },
    {
      "cell_type": "code",
      "source": [
        "#constructor()\n",
        "#  initialise the data variables\n",
        "class Arithmatic:\n",
        "  def __init__(self,a,b):\n",
        "    self.a=a\n",
        "    self.b=b\n",
        "  def add(self):\n",
        "    print(self.a+self.b)\n",
        "  def sub(self):\n",
        "    print(self.a-self.b)\n",
        "o=Arithmatic(40,100)\n",
        "o.add()\n",
        "o.sub()\n"
      ],
      "metadata": {
        "colab": {
          "base_uri": "https://localhost:8080/"
        },
        "id": "g-dJzdsF2lYW",
        "outputId": "41c3d477-248e-43d0-d92e-549fe536e7db"
      },
      "execution_count": null,
      "outputs": [
        {
          "output_type": "stream",
          "name": "stdout",
          "text": [
            "140\n",
            "-60\n"
          ]
        }
      ]
    },
    {
      "cell_type": "code",
      "source": [
        "class Laptop:\n",
        "  def __init__(self):\n",
        "    self.price=0\n",
        "    self.RAM=\"NULL\"\n",
        "  def display(self):\n",
        "    print(self.price,self.RAM)\n",
        "dell=Laptop()\n",
        "dell.price=50000\n",
        "dell.RAM=\"8GB\"\n",
        "dell.display()\n",
        "hp=Laptop()\n",
        "hp.price=40000\n",
        "hp.RAM=\"4GB\"\n",
        "hp.display()\n",
        "son=Laptop()\n",
        "son.display()"
      ],
      "metadata": {
        "colab": {
          "base_uri": "https://localhost:8080/"
        },
        "id": "pyjpD8XE7BMg",
        "outputId": "86f62084-f263-472d-d8a9-76a1d152c39b"
      },
      "execution_count": null,
      "outputs": [
        {
          "output_type": "stream",
          "name": "stdout",
          "text": [
            "50000 8GB\n",
            "40000 4GB\n",
            "0 NULL\n"
          ]
        }
      ]
    },
    {
      "cell_type": "code",
      "source": [
        "#There is no direct constructor overloading in python but we can use this to get similar functionality\n",
        "class Person:\n",
        "    def __init__(self, name=\"NULL\", age=0):\n",
        "        self.name = name\n",
        "        self.age = age\n",
        "\n",
        "p1 = Person(\"Alice\")        # Uses default age\n",
        "p2 = Person(\"Bob\", 30)      # Custom age\n",
        "p3 = Person()               # Uses default values\n",
        "print(p1.name, p1.age)      # Output: Alice 0\n",
        "print(p2.name, p2.age)      # Output: Bob 30\n",
        "print(p3.name, p3.age)"
      ],
      "metadata": {
        "colab": {
          "base_uri": "https://localhost:8080/"
        },
        "id": "CHskerer-xHj",
        "outputId": "394ddb2e-cce9-4fe4-cd0b-fd8dd6b41aac"
      },
      "execution_count": null,
      "outputs": [
        {
          "output_type": "stream",
          "name": "stdout",
          "text": [
            "Alice 0\n",
            "Bob 30\n",
            "NULL 0\n"
          ]
        }
      ]
    },
    {
      "cell_type": "code",
      "source": [
        "#pass\n",
        "n=int(input())\n",
        "if n>5:\n",
        "  pass\n",
        "else:\n",
        "  print(\"nothing Executed even the condition is true\")"
      ],
      "metadata": {
        "colab": {
          "base_uri": "https://localhost:8080/"
        },
        "id": "54KsnY_RFuCZ",
        "outputId": "09b93f24-0732-40be-b681-46fe8ec0cb85"
      },
      "execution_count": null,
      "outputs": [
        {
          "name": "stdout",
          "output_type": "stream",
          "text": [
            "6\n"
          ]
        }
      ]
    },
    {
      "cell_type": "code",
      "source": [
        "#Example\n",
        "class Student:\n",
        "  def __init__(self,name=\"Null\",reg_no=0):\n",
        "    self.name=name\n",
        "    self.reg_no=reg_no\n",
        "  def display(self):\n",
        "    print(\"Name:\",self.name)\n",
        "    print(\"roll_no:\",self.reg_no)\n",
        "s1=Student(\"sairam\",1707)\n",
        "s1.display()\n",
        "s2=Student()\n",
        "s2.display()\n"
      ],
      "metadata": {
        "colab": {
          "base_uri": "https://localhost:8080/"
        },
        "id": "LtPt7AP9HsW7",
        "outputId": "eb43b9a8-346c-4c71-d5aa-ffc616f0ab70"
      },
      "execution_count": null,
      "outputs": [
        {
          "output_type": "stream",
          "name": "stdout",
          "text": [
            "Name: sairam\n",
            "roll_no: 1707\n",
            "Name: Null\n",
            "roll_no: 0\n"
          ]
        }
      ]
    },
    {
      "cell_type": "code",
      "source": [
        "#create a class teacher and assign a values id and subject\n",
        "class Teacher:\n",
        "  def __init__(self,id=0,sub=\"\"):\n",
        "    self.id=id\n",
        "    self.sub=sub\n",
        "  def display(self):\n",
        "    print(\"Id:\",self.id)\n",
        "    print(\"Subject:\",self.sub)\n",
        "T=Teacher(101,\"DBMS\")\n",
        "T.display()\n",
        "\n"
      ],
      "metadata": {
        "colab": {
          "base_uri": "https://localhost:8080/"
        },
        "id": "BmjluYXzNiZU",
        "outputId": "7eca9c35-bac8-4263-dc89-063799f1dc2b"
      },
      "execution_count": null,
      "outputs": [
        {
          "output_type": "stream",
          "name": "stdout",
          "text": [
            "Id: 101\n",
            "Subject: DBMS\n"
          ]
        }
      ]
    },
    {
      "cell_type": "markdown",
      "source": [
        "#**Inheritance**"
      ],
      "metadata": {
        "id": "QZoo6FpKSvxw"
      }
    },
    {
      "cell_type": "code",
      "source": [
        "# -->Single\n",
        "# -->multilevel\n",
        "# -->hierachical\n",
        "# -->multiple\n",
        "# -->hybrid\n",
        "\n",
        "# when we are using inhetitance we need to create objects\n"
      ],
      "metadata": {
        "id": "2HV4uOo_S0vB"
      },
      "execution_count": null,
      "outputs": []
    },
    {
      "cell_type": "code",
      "source": [
        "#single\n",
        "class Parent:\n",
        "  def m1(self):\n",
        "    print(\"I am parent\")\n",
        "class child(Parent):\n",
        "  def m2(self):\n",
        "    print(\"I am child\")\n",
        "O=child()\n",
        "O.m2()\n",
        "O.m1()\n"
      ],
      "metadata": {
        "colab": {
          "base_uri": "https://localhost:8080/"
        },
        "id": "8c3GlM9kjSiI",
        "outputId": "0831ed97-bf3d-4655-dafa-1c310ff9f8ce"
      },
      "execution_count": null,
      "outputs": [
        {
          "output_type": "stream",
          "name": "stdout",
          "text": [
            "I am child\n",
            "I am parent\n"
          ]
        }
      ]
    },
    {
      "cell_type": "code",
      "source": [
        "#multilevel inheritance\n",
        "class G:\n",
        "  def m1(self):\n",
        "    print(\"I am Grand parent\")\n",
        "class P(G):\n",
        "  def m2(self):\n",
        "    print(\"I am parent\")\n",
        "class C(P):\n",
        "  def m3(self):\n",
        "    print(\"I am child\")\n",
        "O=C()\n",
        "O.m3()\n",
        "O.m2()\n",
        "O.m1()"
      ],
      "metadata": {
        "colab": {
          "base_uri": "https://localhost:8080/"
        },
        "id": "PyryQvfWk0XN",
        "outputId": "0233a547-3afb-4a1d-99af-f4dc4e72d819"
      },
      "execution_count": null,
      "outputs": [
        {
          "output_type": "stream",
          "name": "stdout",
          "text": [
            "I am child\n",
            "I am parent\n",
            "I am Grand parent\n"
          ]
        }
      ]
    },
    {
      "cell_type": "code",
      "source": [
        "#hierarchical Inheritance\n",
        "class Parent:\n",
        "  def m1(self):\n",
        "    print(\"I am parent\")\n",
        "class Child1(Parent):\n",
        "  def m2(self):\n",
        "    print(\"I am child1\")\n",
        "class Child2(Parent):\n",
        "  def m3(self):\n",
        "    print(\"I am child2\")\n",
        "class Child3(Parent):\n",
        "  def m4(self):\n",
        "    print(\"I am child3\")\n",
        "o1=Child1()\n",
        "o2=Child2()\n",
        "o3=Child3()\n",
        "o1.m2()\n",
        "o1.m1()\n",
        "o2.m3()\n",
        "o2.m1()\n",
        "o3.m4()\n",
        "o3.m1()"
      ],
      "metadata": {
        "colab": {
          "base_uri": "https://localhost:8080/"
        },
        "id": "pShrgJYRk0Tq",
        "outputId": "e2c22bd8-1f26-4bbe-9e66-97a93c0305c8"
      },
      "execution_count": null,
      "outputs": [
        {
          "output_type": "stream",
          "name": "stdout",
          "text": [
            "I am child1\n",
            "I am parent\n",
            "I am child2\n",
            "I am parent\n",
            "I am child3\n",
            "I am parent\n"
          ]
        }
      ]
    },
    {
      "cell_type": "code",
      "source": [
        "#Multiple Inheritance\n",
        "class Parent1:\n",
        "  def m1(self):\n",
        "    print(\"I am parent1\")\n",
        "class Parent2:\n",
        "  def m2(self):\n",
        "    print(\"I am parent2\")\n",
        "class Parent3:\n",
        "  def m3(self):\n",
        "    print(\"I am parent3\")\n",
        "class Child(Parent1,Parent2,Parent3):\n",
        "  def m4(self):\n",
        "    print(\"I am child\")\n",
        "O=Child()\n",
        "O.m4()\n",
        "O.m3()\n",
        "O.m2()\n",
        "O.m1()"
      ],
      "metadata": {
        "colab": {
          "base_uri": "https://localhost:8080/"
        },
        "id": "Ys0OqnRmqbGW",
        "outputId": "18229586-1591-4c03-b660-df5a94147732"
      },
      "execution_count": null,
      "outputs": [
        {
          "output_type": "stream",
          "name": "stdout",
          "text": [
            "I am child\n",
            "I am parent3\n",
            "I am parent2\n",
            "I am parent1\n"
          ]
        }
      ]
    },
    {
      "cell_type": "code",
      "source": [
        "#Hybrid inheritance\n",
        "# -> it is a combination of both hierarical and multiple inheritance\n",
        "# ->here wehave n no of childs and n no of parents\n",
        "# ->children can access n no of parents but parents cant access any childrens\n",
        "\n",
        "class Parent1:\n",
        "  def m1(self):\n",
        "    print(\"I am parent1\")\n",
        "class Parent2:\n",
        "  def m2(self):\n",
        "    print(\"I am parent2\")\n",
        "class Parent3:\n",
        "  def m3(self):\n",
        "    print(\"I am parent3\")\n",
        "class Child1(Parent1,Parent2):\n",
        "  def m4(self):\n",
        "    print(\"I am child1\")\n",
        "class Child2(Parent2,Parent3):\n",
        "  def m5(self):\n",
        "    print(\"I am child2\")\n",
        "class Child3(Parent1,Parent2,Parent3):\n",
        "  def m6(self):\n",
        "    print(\"I am child3\")\n",
        "C1=Child1()\n",
        "C1.m4()\n",
        "C1.m1()\n",
        "C1.m2()\n",
        "C2=Child2()\n",
        "C2.m5()\n",
        "C2.m2()\n",
        "C2.m3()\n",
        "C3=Child3()\n",
        "C3.m6()\n",
        "C3.m1()\n",
        "C3.m2()\n",
        "C3.m3()\n"
      ],
      "metadata": {
        "colab": {
          "base_uri": "https://localhost:8080/"
        },
        "id": "XMsBdEMGs571",
        "outputId": "8793c673-edc5-41b5-c4ee-b70d03ec7ec3"
      },
      "execution_count": null,
      "outputs": [
        {
          "output_type": "stream",
          "name": "stdout",
          "text": [
            "I am child1\n",
            "I am parent1\n",
            "I am parent2\n",
            "I am child2\n",
            "I am parent2\n",
            "I am parent3\n",
            "I am child3\n",
            "I am parent1\n",
            "I am parent2\n",
            "I am parent3\n"
          ]
        }
      ]
    },
    {
      "cell_type": "markdown",
      "source": [
        "#**POLYMORPHISM**"
      ],
      "metadata": {
        "id": "D2TxA-DMwUgS"
      }
    },
    {
      "cell_type": "code",
      "source": [
        "# ->method overloading (Compile time)\n",
        "# ->method overriding (Run time)\n",
        "\n",
        "# Method OverLoading\n",
        "class Addition:\n",
        "  def add(self,a,b):\n",
        "    return a+b\n",
        "  def add(self,a,b,c=0):\n",
        "    return a+b+c\n",
        "  def add(self,a,b,c=0,d=0):\n",
        "    return a+b+c+d\n",
        "o=Addition()\n",
        "print(o.add(10,20))\n",
        "print(o.add(10,20,23))\n",
        "print(o.add(10,20,25,30))"
      ],
      "metadata": {
        "colab": {
          "base_uri": "https://localhost:8080/"
        },
        "id": "nOcU2sqmwTlr",
        "outputId": "b11e435f-9051-4939-d65d-29062f640ffe"
      },
      "execution_count": null,
      "outputs": [
        {
          "output_type": "stream",
          "name": "stdout",
          "text": [
            "30\n",
            "53\n",
            "85\n"
          ]
        }
      ]
    },
    {
      "cell_type": "code",
      "source": [
        "#Method Overriding\n",
        "class Parent:\n",
        "  def house():\n",
        "    print(\"Parent House\")\n",
        "  def land():\n",
        "    print(\"Parent Land\")\n",
        "  def cash():\n",
        "    print(\"Parent Cash\")\n",
        "class Child(Parent):\n",
        "  def house(self):\n",
        "    print(\"Child House\")\n",
        "  def land(self):\n",
        "    print(\"Child Land\")\n",
        "  def cash(self):\n",
        "    print(\"Child Cash\")\n",
        "o=Child()\n",
        "o.house()\n",
        "o.land()\n",
        "o.cash()\n"
      ],
      "metadata": {
        "colab": {
          "base_uri": "https://localhost:8080/"
        },
        "id": "Y67ZfjXX1M_D",
        "outputId": "45e994b7-3ca0-47c5-a411-a4094a14c3fa"
      },
      "execution_count": null,
      "outputs": [
        {
          "output_type": "stream",
          "name": "stdout",
          "text": [
            "Child House\n",
            "Child Land\n",
            "Child Cash\n"
          ]
        }
      ]
    }
  ]
}