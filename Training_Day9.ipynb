{
  "nbformat": 4,
  "nbformat_minor": 0,
  "metadata": {
    "colab": {
      "provenance": [],
      "authorship_tag": "ABX9TyNO0Sio4Il8pG1eOG28fOMH",
      "include_colab_link": true
    },
    "kernelspec": {
      "name": "python3",
      "display_name": "Python 3"
    },
    "language_info": {
      "name": "python"
    }
  },
  "cells": [
    {
      "cell_type": "markdown",
      "metadata": {
        "id": "view-in-github",
        "colab_type": "text"
      },
      "source": [
        "<a href=\"https://colab.research.google.com/github/Sairamkundalapalli/Training-sessions/blob/main/Training_Day9.ipynb\" target=\"_parent\"><img src=\"https://colab.research.google.com/assets/colab-badge.svg\" alt=\"Open In Colab\"/></a>"
      ]
    },
    {
      "cell_type": "markdown",
      "source": [
        "# **Patterns**"
      ],
      "metadata": {
        "id": "p6zP4WL9Q3Am"
      }
    },
    {
      "cell_type": "code",
      "execution_count": null,
      "metadata": {
        "colab": {
          "base_uri": "https://localhost:8080/"
        },
        "id": "47tn6ZT5Fw2B",
        "outputId": "e4c94441-6e7c-4a3c-f63f-e9b697ca9c84"
      },
      "outputs": [
        {
          "output_type": "stream",
          "name": "stdout",
          "text": [
            "        1 \n",
            "      1 2 1 \n",
            "    1 2 3 2 1 \n",
            "  1 2 3 4 3 2 1 \n",
            "1 2 3 4 5 4 3 2 1 \n"
          ]
        }
      ],
      "source": [
        "#pascal triangle\n",
        "n=5\n",
        "for i in range(1,n+1):\n",
        "  for j in range(n-i):\n",
        "    print(\" \",end=\" \")\n",
        "  for j in range(1,i+1):\n",
        "    print(j,end=\" \")\n",
        "  for j in range(i-1,0,-1):\n",
        "    print(j,end=\" \")\n",
        "  print()"
      ]
    },
    {
      "cell_type": "code",
      "source": [
        "#pyramid\n",
        "n=5\n",
        "for i in range(1,n+1):\n",
        "  for j in range(n-i):\n",
        "    print(\" \",end=\" \")\n",
        "  for j in range(1,i+1):\n",
        "    print(j,end=\" \")\n",
        "  for j in range(i-1,0,-1):\n",
        "    print(j,end=\" \")\n",
        "  print()\n",
        "for i in range(n-1,0,-1):\n",
        "  for j in range(n-i):\n",
        "    print(\" \",end=\" \")\n",
        "  for j in range(1,i+1):\n",
        "    print(j,end=\" \")\n",
        "  for j in range(i-1,0,-1):\n",
        "    print(j,end=\" \")\n",
        "  print()\n"
      ],
      "metadata": {
        "colab": {
          "base_uri": "https://localhost:8080/"
        },
        "id": "7gRLEXZIIgTI",
        "outputId": "8cb2699c-2a33-4fdc-8889-56d02d814679"
      },
      "execution_count": null,
      "outputs": [
        {
          "output_type": "stream",
          "name": "stdout",
          "text": [
            "        1 \n",
            "      1 2 1 \n",
            "    1 2 3 2 1 \n",
            "  1 2 3 4 3 2 1 \n",
            "1 2 3 4 5 4 3 2 1 \n",
            "  1 2 3 4 3 2 1 \n",
            "    1 2 3 2 1 \n",
            "      1 2 1 \n",
            "        1 \n"
          ]
        }
      ]
    },
    {
      "cell_type": "code",
      "source": [
        "#Butterfly\n",
        "n=5\n",
        "for i in range(1,n+1):\n",
        "  for j in range(1,i+1):\n",
        "    print(\"*\",end=\" \")\n",
        "  for j in range(2*(n-i)):\n",
        "     print(\" \",end=\" \")\n",
        "  for j in range(1,i+1):\n",
        "    print(\"*\",end=\" \")\n",
        "  print()\n",
        "for i in range(n,0,-1):\n",
        "  for j in range(1,i+1):\n",
        "    print(\"*\",end=\" \")\n",
        "  for j in range(2*(n-i)):\n",
        "    print(\" \",end=\" \")\n",
        "  for j in range(1,i+1):\n",
        "    print(\"*\",end=\" \")\n",
        "  print()"
      ],
      "metadata": {
        "colab": {
          "base_uri": "https://localhost:8080/"
        },
        "id": "BIf6dyexLMuh",
        "outputId": "ecb1adbc-d4b2-486b-d8cc-a28badaa63dd"
      },
      "execution_count": null,
      "outputs": [
        {
          "output_type": "stream",
          "name": "stdout",
          "text": [
            "*                 * \n",
            "* *             * * \n",
            "* * *         * * * \n",
            "* * * *     * * * * \n",
            "* * * * * * * * * * \n",
            "* * * * * * * * * * \n",
            "* * * *     * * * * \n",
            "* * *         * * * \n",
            "* *             * * \n",
            "*                 * \n"
          ]
        }
      ]
    },
    {
      "cell_type": "code",
      "source": [
        "#hallow pyramid\n",
        "n = 5\n",
        "for i in range(1, n + 1):\n",
        "    for j in range(n - i):\n",
        "        print(\" \", end=\"\")\n",
        "    for j in range(1, i + 1):\n",
        "        if j == 1 or i == n or i == j:\n",
        "            print(\"*\", end=\" \")\n",
        "        else:\n",
        "            print(\" \", end=\" \")\n",
        "    print()\n"
      ],
      "metadata": {
        "colab": {
          "base_uri": "https://localhost:8080/"
        },
        "id": "I2clZVeLQ94A",
        "outputId": "3c3797a4-7eb3-4cf1-a313-789832bb75af"
      },
      "execution_count": null,
      "outputs": [
        {
          "output_type": "stream",
          "name": "stdout",
          "text": [
            "    * \n",
            "   * * \n",
            "  *   * \n",
            " *     * \n",
            "* * * * * \n"
          ]
        }
      ]
    },
    {
      "cell_type": "code",
      "source": [
        "n=input()\n",
        "l=[]\n",
        "count=1\n",
        "for i in range(1,len(n)):\n",
        "  if n[i]==n[i-1]:\n",
        "    count+=1\n",
        "  else:\n",
        "    l.append(n[i-1]+str(count))\n",
        "    count=1\n",
        "if n:\n",
        "  l.append(n[-1]+str(count))\n",
        "print(\"\".join(l))\n"
      ],
      "metadata": {
        "colab": {
          "base_uri": "https://localhost:8080/"
        },
        "id": "tJOMI6CGUrj9",
        "outputId": "f60b2af9-cd95-4232-b349-b299abee5aaa"
      },
      "execution_count": null,
      "outputs": [
        {
          "output_type": "stream",
          "name": "stdout",
          "text": [
            "aasshjhjaka\n",
            "a2s2h1j1h1j1a1k1a1\n"
          ]
        }
      ]
    },
    {
      "cell_type": "code",
      "source": [
        "# Single_Linked list\n",
        "class Node:\n",
        "  def __init__(self,data):\n",
        "    self.data=data\n",
        "    self.next=None\n",
        "class Linkedlist:\n",
        "  def __init__(self):\n",
        "    self.head=None\n",
        "  def insertatEnd(self,data):\n",
        "    nd=Node(data)\n",
        "    if self.head is None:\n",
        "      nd=self.head\n",
        "    else:\n",
        "      temp=self.head\n",
        "      while temp.next is not None:\n",
        "        temp=temp.next\n",
        "      temp.next=nd\n",
        "  def insertatbeg(self,data):\n",
        "    nd=Node(data)\n",
        "    nd.next=self.head\n",
        "    self.head=nd\n",
        "  def insertatspec(self,key,data):\n",
        "    nd=Node(data)\n",
        "    temp=self.head\n",
        "    while temp.data is not key:\n",
        "      temp=temp.next\n",
        "    nd.next=temp.next\n",
        "    temp.next=nd\n",
        "  def insertatpos(self,pos,data):\n",
        "    nd=Node(data)\n",
        "    if pos==0:\n",
        "      nd.next=self.head\n",
        "      self.head=nd\n",
        "    else:\n",
        "      temp=self.head\n",
        "      for i in range(pos-1):\n",
        "        temp=temp.next\n",
        "      nd.next=temp.next\n",
        "      temp.next=nd\n",
        "  def deleteatspec(self,key):\n",
        "    temp=self.head\n",
        "    if temp.data==key:\n",
        "      self.head=temp.next\n",
        "      temp=None\n",
        "    else:\n",
        "      while temp.data!=key:\n",
        "        temp2=temp\n",
        "      temp=temp.next\n",
        "      temp2.next=temp.next\n",
        "  def deleteatpos(self,pos):\n",
        "    if pos==0:\n",
        "      self.head=self.head.next\n",
        "    else:\n",
        "      temp=self.head\n",
        "      for i in range(pos-1):\n",
        "        temp=temp.next\n",
        "        if temp is None:\n",
        "          print(\"Invalid position\")\n",
        "          return\n",
        "      temp.next=temp.next.next\n",
        "      temp=None\n",
        "\n",
        "  def deleteatbegin(self):\n",
        "    temp=self.head\n",
        "    temp=temp.next\n",
        "    self.head=temp\n",
        "    temp=None\n",
        "  def deleteatend(self):\n",
        "    temp=self.head\n",
        "    while temp.next.next is not None:\n",
        "      temp=temp.next\n",
        "    temp.next=None\n",
        "  def display(self):\n",
        "    temp=self.head\n",
        "    while temp is not None:\n",
        "      print(temp.data,end=\" \")\n",
        "      temp=temp.next\n",
        "    print()\n",
        "M=Linkedlist()\n",
        "# M.insertatbeg(10)\n",
        "M.insertatbeg(30)\n",
        "M.insertatEnd(25)\n",
        "M.insertatspec(30,20)\n",
        "M.insertatpos(2,40)\n",
        "# M.deleteatspec(30)\n",
        "M.deleteatpos(9)\n",
        "# M.deleteatbegin()\n",
        "# M.deleteatend()\n",
        "M.display()"
      ],
      "metadata": {
        "colab": {
          "base_uri": "https://localhost:8080/"
        },
        "id": "7RcKBLlehICn",
        "outputId": "e41c02af-da02-43b2-c76d-ddcd05147366"
      },
      "execution_count": null,
      "outputs": [
        {
          "output_type": "stream",
          "name": "stdout",
          "text": [
            "Invalid position\n",
            "30 20 40 25 \n"
          ]
        }
      ]
    },
    {
      "cell_type": "code",
      "source": [
        "#double Linked list\n",
        "class Node:\n",
        "  def __init__(self,data):\n",
        "    self.data=data\n",
        "    self.prev=None\n",
        "    self.next=None\n",
        "class DLL:\n",
        "  def __init__(self):\n",
        "    self.head=None\n",
        "  def insertatend(self,data):\n",
        "    nd=Node(data)\n",
        "    if self.head is None:\n",
        "      self.head=nd\n",
        "    else:\n",
        "      temp=self.head\n",
        "      while temp.next is not None:\n",
        "        temp=temp.next\n",
        "      temp.next=nd\n",
        "      nd.prev=temp\n",
        "  def insertatbeg(self,data):\n",
        "    nd=Node(data)\n",
        "    nd.next=self.head\n",
        "    self.head.prev=nd\n",
        "    self.head=nd\n",
        "  def deleteatend(self):\n",
        "    temp=self.head\n",
        "    while temp.next is not None:\n",
        "      temp=temp.next\n",
        "    temp.prev.next=None\n",
        "  def deleteatbeg(self):\n",
        "    temp=self.head\n",
        "    self.head=self.head.next\n",
        "    # temp.next.prev=None\n",
        "  def deleteaatend(self):\n",
        "    temp=self.head\n",
        "    while temp.next is not None:\n",
        "      temp=temp.next\n",
        "      temp.prev.next=None\n",
        "  def D(self):\n",
        "    temp=self.head\n",
        "    while temp is not None:\n",
        "      print(temp.data,end=\" \")\n",
        "      temp=temp.next\n",
        "M=DLL()\n",
        "M.insertatend(10)\n",
        "M.insertatbeg(20)\n",
        "M.insertatbeg(45)\n",
        "M.deleteatbeg()\n",
        "M.deleteatend()\n",
        "M.D()"
      ],
      "metadata": {
        "id": "mYHScbVIjTTA",
        "colab": {
          "base_uri": "https://localhost:8080/"
        },
        "outputId": "d9ff394e-5344-4205-ca3e-632335219fbf"
      },
      "execution_count": null,
      "outputs": [
        {
          "output_type": "stream",
          "name": "stdout",
          "text": [
            "20 "
          ]
        }
      ]
    }
  ]
}