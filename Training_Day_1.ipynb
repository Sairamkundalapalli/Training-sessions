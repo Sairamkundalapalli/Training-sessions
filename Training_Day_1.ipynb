{
  "nbformat": 4,
  "nbformat_minor": 0,
  "metadata": {
    "colab": {
      "provenance": [],
      "authorship_tag": "ABX9TyN0WJC1lXSmc+/qEFjcCS/4",
      "include_colab_link": true
    },
    "kernelspec": {
      "name": "python3",
      "display_name": "Python 3"
    },
    "language_info": {
      "name": "python"
    }
  },
  "cells": [
    {
      "cell_type": "markdown",
      "metadata": {
        "id": "view-in-github",
        "colab_type": "text"
      },
      "source": [
        "<a href=\"https://colab.research.google.com/github/Sairamkundalapalli/Training-sessions/blob/main/Training_Day_1.ipynb\" target=\"_parent\"><img src=\"https://colab.research.google.com/assets/colab-badge.svg\" alt=\"Open In Colab\"/></a>"
      ]
    },
    {
      "cell_type": "code",
      "execution_count": null,
      "metadata": {
        "colab": {
          "base_uri": "https://localhost:8080/"
        },
        "id": "5LvyVjV-uFEM",
        "outputId": "692cb08e-b725-4d8f-b69c-e038cb7e9c9c"
      },
      "outputs": [
        {
          "output_type": "stream",
          "name": "stdout",
          "text": [
            "hello  world\n"
          ]
        }
      ],
      "source": [
        "#end\n",
        "print(\"hello \",end=\" \")\n",
        "print(\"world\")"
      ]
    },
    {
      "cell_type": "code",
      "source": [
        "#sepeartor\n",
        "print(\"hello world\",\"this is day1\",sep=\"$\")"
      ],
      "metadata": {
        "colab": {
          "base_uri": "https://localhost:8080/"
        },
        "id": "nhSR6B99vHUG",
        "outputId": "8dd75498-0968-47d0-b468-a21b911498aa"
      },
      "execution_count": null,
      "outputs": [
        {
          "output_type": "stream",
          "name": "stdout",
          "text": [
            "hello world$this is day1\n"
          ]
        }
      ]
    },
    {
      "cell_type": "code",
      "source": [
        "#arrays\n",
        "print(\"hello\"[0])\n",
        "print(\"hello\"[-1])"
      ],
      "metadata": {
        "colab": {
          "base_uri": "https://localhost:8080/"
        },
        "id": "DH6vM-U7u3Tw",
        "outputId": "d9f05c6a-9e5b-48e7-ea39-829caf5cd71c"
      },
      "execution_count": null,
      "outputs": [
        {
          "output_type": "stream",
          "name": "stdout",
          "text": [
            "h\n",
            "o\n"
          ]
        }
      ]
    },
    {
      "cell_type": "code",
      "source": [
        "#int format specifier\n",
        "a=10.89\n",
        "print(\"%f\"%a)\n",
        "print(\"%5f\"%a)\n",
        "print(\"%10d\"%a)\n",
        "print(\"%.5d\"%a)\n",
        "print(\"%.7d\"%a)"
      ],
      "metadata": {
        "colab": {
          "base_uri": "https://localhost:8080/"
        },
        "id": "NoBMt83fxP07",
        "outputId": "d35aeeea-5a19-461b-e554-461e9ac15151"
      },
      "execution_count": null,
      "outputs": [
        {
          "output_type": "stream",
          "name": "stdout",
          "text": [
            "10.890000\n",
            "10.890000\n",
            "        10\n",
            "00010\n",
            "0000010\n"
          ]
        }
      ]
    },
    {
      "cell_type": "code",
      "source": [
        "#ASCII Values\n",
        "a=65\n",
        "print(\"%3c\"%a)\n",
        "\n"
      ],
      "metadata": {
        "colab": {
          "base_uri": "https://localhost:8080/"
        },
        "id": "daW-ENvkzhF1",
        "outputId": "c7e92296-6a03-4a89-888a-c2c99591b1c3"
      },
      "execution_count": null,
      "outputs": [
        {
          "output_type": "stream",
          "name": "stdout",
          "text": [
            "  A\n"
          ]
        }
      ]
    },
    {
      "cell_type": "code",
      "source": [
        "#String format specifier\n",
        "a=\"Hello World\"\n",
        "print(\"%s\"%a)"
      ],
      "metadata": {
        "colab": {
          "base_uri": "https://localhost:8080/"
        },
        "id": "Sj0OsW-72l12",
        "outputId": "729cfc55-2f89-4106-f381-5ca07262782b"
      },
      "execution_count": null,
      "outputs": [
        {
          "output_type": "stream",
          "name": "stdout",
          "text": [
            "Hello World\n"
          ]
        }
      ]
    },
    {
      "cell_type": "code",
      "source": [
        "#input\n",
        "a=int(input(\"enter a number:\"))\n",
        "print(a)\n",
        "\n",
        "a=float(input(\"enter a number:\"))\n",
        "print(a)\n",
        "\n",
        "a=str(input(\"enter a number:\"))\n",
        "print(a)\n",
        "\n",
        "a=bool(input(\"enter a number:\"))\n",
        "print(a)"
      ],
      "metadata": {
        "colab": {
          "base_uri": "https://localhost:8080/"
        },
        "id": "Kg5vEGKC3RW9",
        "outputId": "fb180556-67ae-4964-d8ba-f258693a8abd"
      },
      "execution_count": null,
      "outputs": [
        {
          "output_type": "stream",
          "name": "stdout",
          "text": [
            "enter a number:45\n",
            "45\n",
            "enter a number:45\n",
            "45.0\n",
            "enter a number:sairam\n",
            "sairam\n"
          ]
        }
      ]
    },
    {
      "cell_type": "code",
      "source": [
        "#catch keyword\n",
        "\n",
        "import keyword\n",
        "print(keyword.kwlist)"
      ],
      "metadata": {
        "colab": {
          "base_uri": "https://localhost:8080/"
        },
        "id": "CgLQPzB08dcC",
        "outputId": "0c91eef5-78e9-4a11-9a98-98595427ffd3"
      },
      "execution_count": null,
      "outputs": [
        {
          "output_type": "stream",
          "name": "stdout",
          "text": [
            "['False', 'None', 'True', 'and', 'as', 'assert', 'async', 'await', 'break', 'class', 'continue', 'def', 'del', 'elif', 'else', 'except', 'finally', 'for', 'from', 'global', 'if', 'import', 'in', 'is', 'lambda', 'nonlocal', 'not', 'or', 'pass', 'raise', 'return', 'try', 'while', 'with', 'yield']\n"
          ]
        }
      ]
    },
    {
      "cell_type": "code",
      "source": [
        "\n",
        "#identifiers\n",
        "#identifiers is a name given to a variable\n",
        "#function or class\n",
        "\n",
        "#rules for naming identifiers\n",
        "#it have to start with alphabet or unusers\n",
        "#we can't use keywords\n",
        "#case sensative\n",
        "#we can't use white spaces\n",
        "#we can't use special characters\n",
        "\n",
        "\n",
        "a=110\n",
        "print(id(a))\n"
      ],
      "metadata": {
        "colab": {
          "base_uri": "https://localhost:8080/"
        },
        "id": "x5cgsMemDKZG",
        "outputId": "bb7961d6-7055-479c-cd2a-00a873f1db89"
      },
      "execution_count": null,
      "outputs": [
        {
          "output_type": "stream",
          "name": "stdout",
          "text": [
            "132164840050320\n"
          ]
        }
      ]
    },
    {
      "cell_type": "code",
      "source": [
        "Formatted string\n",
        "name=\"python\"\n",
        "year=1991\n",
        "print(f\"{name} programming developed in {year}\")\n",
        "print(\"{0} programming developed in {1}\".format(name,year))\n",
        "\n"
      ],
      "metadata": {
        "colab": {
          "base_uri": "https://localhost:8080/"
        },
        "id": "Ihyeq6c4LoVp",
        "outputId": "54204c3e-83a3-4db7-d3b6-cbdc229eb90c"
      },
      "execution_count": null,
      "outputs": [
        {
          "output_type": "stream",
          "name": "stdout",
          "text": [
            "python programming developed in 1991\n",
            "python programming developed in 1991\n"
          ]
        }
      ]
    },
    {
      "cell_type": "code",
      "source": [
        "print(\"\\\"hello world\\\"\")\n",
        "print(\"\\\\hello world\\\\\")\n",
        "\n",
        "a,b,c=input().split()\n",
        "print(a,b,c)\n",
        "print(type(a))\n"
      ],
      "metadata": {
        "colab": {
          "base_uri": "https://localhost:8080/"
        },
        "id": "QmG1h07xOlau",
        "outputId": "6104eb48-0a8a-41af-f723-b0ce52f3c678"
      },
      "execution_count": null,
      "outputs": [
        {
          "output_type": "stream",
          "name": "stdout",
          "text": [
            "\"hello world\"\n",
            "\\hello world\\\n"
          ]
        }
      ]
    },
    {
      "cell_type": "markdown",
      "source": [
        "#operators\n",
        "\n",
        "*   operator is a just a symbol\n",
        "*   which is used to perform operations\n",
        "*   operands\n",
        "*   a+b=c\n",
        "*   12+9==7\n"
      ],
      "metadata": {
        "id": "KTulyP04M-Ml"
      }
    },
    {
      "cell_type": "code",
      "source": [
        "#Arithmetic---------------\n",
        "a=10\n",
        "b=20\n",
        "print(a+b)\n",
        "print(a-b)\n",
        "print(a*b)\n",
        "print(a/b)\n",
        "print(a//b)\n",
        "print(a%b)\n",
        "print(a**b)\n",
        "#note\n",
        "a=b=10\n",
        "print(a,b)\n",
        "\n",
        "a=10,20,30\n",
        "print(a)\n",
        "print(type(a))\n",
        "\n",
        "#Relational---------------------------------(#<,<=,>,>=,==,!=)---------------------\n",
        "a=10\n",
        "b=20\n",
        "print(a>b)\n",
        "print(a<b)\n",
        "print(a>=b)\n",
        "print(a<=b)\n",
        "print(a==b)\n",
        "print(a!=b)\n",
        "\n",
        "#logical--------------------------------(and,or,not)--------------------\n",
        "#it is used to compare two simple conditions.we can form compound conditions by using logical operation.these operator are alo return bool values.\n",
        "a=10\n",
        "b=20\n",
        "print(a<b and a!=b)\n",
        "print(a<b or a==b)\n",
        "print(not a)\n",
        "print(not b)\n",
        "\n",
        "#Bitwise---------------------------(&,|,~,^,>>,<<)---------------------\n",
        "#it is used to perform on binary bits.\n",
        "\n",
        "a=4\n",
        "b=5\n",
        "print(bin(a))\n",
        "print(bin(b))\n",
        "print(a&b)\n",
        "print(a|b)\n",
        "print(~a)\n",
        "print(a>>2)\n",
        "print(a<<2)\n",
        "\n",
        "#Assignment\n",
        "#identity\n",
        "#Membership"
      ],
      "metadata": {
        "colab": {
          "base_uri": "https://localhost:8080/"
        },
        "id": "P-QBHQ4FLqux",
        "outputId": "17f4730f-d009-4503-bc16-51cc2f47efe2"
      },
      "execution_count": 17,
      "outputs": [
        {
          "output_type": "stream",
          "name": "stdout",
          "text": [
            "30\n",
            "-10\n",
            "200\n",
            "0.5\n",
            "0\n",
            "10\n",
            "100000000000000000000\n",
            "10 10\n",
            "(10, 20, 30)\n",
            "<class 'tuple'>\n",
            "False\n",
            "True\n",
            "False\n",
            "True\n",
            "False\n",
            "True\n",
            "True\n",
            "True\n",
            "False\n",
            "False\n",
            "0b100\n",
            "0b101\n",
            "4\n",
            "-5\n",
            "1\n",
            "16\n"
          ]
        }
      ]
    }
  ]
}