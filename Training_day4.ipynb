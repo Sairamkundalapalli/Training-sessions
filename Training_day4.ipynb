{
  "nbformat": 4,
  "nbformat_minor": 0,
  "metadata": {
    "colab": {
      "provenance": [],
      "authorship_tag": "ABX9TyO7GW5Eh6xQ8jc9VrfGh8gZ",
      "include_colab_link": true
    },
    "kernelspec": {
      "name": "python3",
      "display_name": "Python 3"
    },
    "language_info": {
      "name": "python"
    }
  },
  "cells": [
    {
      "cell_type": "markdown",
      "metadata": {
        "id": "view-in-github",
        "colab_type": "text"
      },
      "source": [
        "<a href=\"https://colab.research.google.com/github/Sairamkundalapalli/Training-sessions/blob/main/Training_day4.ipynb\" target=\"_parent\"><img src=\"https://colab.research.google.com/assets/colab-badge.svg\" alt=\"Open In Colab\"/></a>"
      ]
    },
    {
      "cell_type": "code",
      "execution_count": null,
      "metadata": {
        "colab": {
          "base_uri": "https://localhost:8080/"
        },
        "id": "gNZiWx1HA5rT",
        "outputId": "a330d426-bcdf-4161-9f22-4b554fe2a74f"
      },
      "outputs": [
        {
          "output_type": "stream",
          "name": "stdout",
          "text": [
            "dfg fghj ghj hjk\n",
            "['dfg', 'fghj', 'ghj', 'hjk']\n",
            "dfg fghj ghj hjk \n",
            "dfg fghj ghj hjk \n",
            "dfg fghj ghj hjk\n"
          ]
        }
      ],
      "source": [
        "#input for a list\n",
        "n=input()\n",
        "n=n.split()\n",
        "print(n)\n",
        "for i in n:\n",
        "    print(i,end=\" \")\n",
        "print(\"\")\n",
        "for j in range(len(n)):\n",
        "    print(n[j],end=\" \")\n",
        "print()\n",
        "print(\" \".join([n[i] for i in range(len(n))]))"
      ]
    },
    {
      "cell_type": "code",
      "source": [
        "#wap to print [30, 20, 10, 60, 50, 40]\n",
        "list=[10,20,30,40,50,60]\n",
        "l=list[0:3]\n",
        "l2=list[3:]\n",
        "l.reverse()\n",
        "l2.reverse()\n",
        "# l.extend(l2)\n",
        "print(l+l2)\n",
        "\n"
      ],
      "metadata": {
        "colab": {
          "base_uri": "https://localhost:8080/"
        },
        "id": "bWbqowv-F61i",
        "outputId": "0967b816-d3ce-4e24-f569-fd6e5419bdc3"
      },
      "execution_count": null,
      "outputs": [
        {
          "output_type": "stream",
          "name": "stdout",
          "text": [
            "[30, 20, 10, 60, 50, 40]\n"
          ]
        }
      ]
    },
    {
      "cell_type": "code",
      "source": [
        "#appending and insertmethod\n",
        "l=[10,20,30,40,50,60]\n",
        "pos=1\n",
        "for i in range(51,101):\n",
        "  if(i%10==0):\n",
        "    l.append(i)\n",
        "  #  l.insert(pos,i)\n",
        "  #  pos+=2\n",
        "print(l)"
      ],
      "metadata": {
        "colab": {
          "base_uri": "https://localhost:8080/"
        },
        "id": "VwORVhP7RXKU",
        "outputId": "716c3081-ddee-4d21-bd84-9924e22be724"
      },
      "execution_count": null,
      "outputs": [
        {
          "output_type": "stream",
          "name": "stdout",
          "text": [
            "[10, 20, 30, 40, 50, 60, 60, 70, 80, 90, 100]\n"
          ]
        }
      ]
    },
    {
      "cell_type": "code",
      "source": [
        "#clear method\n",
        "'''l=[10,20,30,40,50,60]\n",
        "l.clear()\n",
        "print(l)'''\n",
        "\n",
        "#copy List\n",
        "'''l=[10,20,30,40,5,0]\n",
        "l1=l\n",
        "#l1=l.copy()\n",
        "#l1=list(l)\n",
        "print(l1)'''\n"
      ],
      "metadata": {
        "colab": {
          "base_uri": "https://localhost:8080/"
        },
        "id": "Rh6XNoIVcNyx",
        "outputId": "4f8ab777-3568-4838-d747-78cfcd6712d8"
      },
      "execution_count": null,
      "outputs": [
        {
          "output_type": "stream",
          "name": "stdout",
          "text": [
            "[10, 20, 30, 40, 5, 0]\n"
          ]
        }
      ]
    },
    {
      "cell_type": "code",
      "source": [
        "#printing elements\n",
        "a =input()\n",
        "#a1=a.split()\n",
        "#l=[print(i,end=\" \") for i in a1]\n",
        "l=[i for i in a]\n",
        "print(l)"
      ],
      "metadata": {
        "colab": {
          "base_uri": "https://localhost:8080/"
        },
        "id": "0Yeis3nahJ82",
        "outputId": "365e9e39-8504-4b73-cd1e-bbc33a18be35"
      },
      "execution_count": null,
      "outputs": [
        {
          "output_type": "stream",
          "name": "stdout",
          "text": [
            "hello world\n",
            "['h', 'e', 'l', 'l', 'o', ' ', 'w', 'o', 'r', 'l', 'd']\n"
          ]
        }
      ]
    },
    {
      "cell_type": "markdown",
      "source": [
        "#Tuple()"
      ],
      "metadata": {
        "id": "OYM1bCEBmx-c"
      }
    },
    {
      "cell_type": "code",
      "source": [
        "#  ----->immutable\n",
        "# -------->enclosed with parenthesis.And each element is seperated by commma.Hetergenius elements.\n",
        "#creation of Tuple\n",
        "'''t=(10,20,30,45,50)\n",
        "print(t)\n",
        "print(type(t))'''\n",
        "\n",
        "#empty tuple\n",
        "'''t=tuple()\n",
        "print(t)'''\n",
        "\n",
        "\n",
        "#inbuit Functions in tuple\n",
        "'''t=(1000,210,2000,55,52852,80)\n",
        "print(max(t))\n",
        "print(min(t))\n",
        "print(sum(t))\n",
        "print(len(t))\n",
        "print(t.count(2000))\n",
        "print(t.index(2000))\n",
        "print(sorted(t))\n",
        "print(sorted(t,reverse=True))'''\n",
        "\n",
        "\n",
        "#typecasting\n",
        "'''t=(10,20,30,40,50,60)\n",
        "l=list(t)\n",
        "l.pop()\n",
        "t=tuple(l)\n",
        "print(t)'''\n",
        "\n",
        "#packing and unpacking\n",
        "'''a,b,c,d,e=10,20,30,40,50\n",
        "t=(a,b,c,d,e)\n",
        "print(t)'''\n",
        "\n",
        "t=10,20,30,40,50\n",
        "a,b,*c=t\n",
        "print(a,b,c)\n",
        "\n",
        "#generator\n",
        "l=(i*i for i in range(10))\n",
        "#t=tuple(l)\n",
        "# print(t)\n",
        "# print(type(t))\n",
        "for i in l:\n",
        "  print(i,end=\" \")"
      ],
      "metadata": {
        "colab": {
          "base_uri": "https://localhost:8080/"
        },
        "id": "R2S-MYc0lR3V",
        "outputId": "b5d4fa1e-9c22-4e34-d301-61816a2f57fb"
      },
      "execution_count": null,
      "outputs": [
        {
          "output_type": "stream",
          "name": "stdout",
          "text": [
            "10 20 [30, 40, 50]\n"
          ]
        }
      ]
    },
    {
      "cell_type": "code",
      "source": [
        "#generator to tuple\n",
        "l=(i*i for i in range(10))\n",
        "#t=tuple(l)\n",
        "# print(t)\n",
        "# print(type(t))\n",
        "for i in l:\n",
        "  print(i,end=\" \")"
      ],
      "metadata": {
        "colab": {
          "base_uri": "https://localhost:8080/"
        },
        "id": "CgFCf1hqu3vD",
        "outputId": "579d8857-e6ad-4b4c-b526-a537943b78ba"
      },
      "execution_count": null,
      "outputs": [
        {
          "output_type": "stream",
          "name": "stdout",
          "text": [
            "0 1 4 9 16 25 36 49 64 81 "
          ]
        }
      ]
    },
    {
      "cell_type": "markdown",
      "source": [
        "#**Dict**"
      ],
      "metadata": {
        "id": "G-HLnq73A-9r"
      }
    },
    {
      "cell_type": "code",
      "source": [
        "# --------->heterogenius\n",
        "# --------->insertion order is preserved\n",
        "# --------->keys are immutable but values are muttable\n",
        "# --------->we can access the elements by key values\n",
        "# ---------->indexinng and slicing in dict\n",
        "#---------->keys not be duplicated values may duplicate\n",
        "\n",
        "'''d={}\n",
        "print(d)'''\n",
        "\n",
        "# creating dict\n",
        "'''d={\n",
        "    \"name\":\"Sai ram\",\n",
        "    \"Rollno\":1707,\n",
        "    \"branch\":\"CSE\",\n",
        "}\n",
        "print(d[\"name\"])\n",
        "print(type(d))'''\n",
        "\n",
        "# updating method\n",
        "'''d={\"name\":\"sai ram\",2:200,\"branch\":\"cse\"}\n",
        "#d[2]=900\n",
        "d.update({2:10000})\n",
        "print(d)'''\n",
        "\n",
        "# pop and popitem\n",
        "'''d={1:100,2:200,3:300,4:400}\n",
        "d.pop(4)         #delete at specific\n",
        "d.popitem()       #delete last element\n",
        "print(d)'''\n",
        "\n",
        "# clear method\n",
        "'''d={1:100,2:200,3:300,4:400}\n",
        "d.clear()\n",
        "print(d)'''\n",
        "\n",
        "# values method with inbuit keyboards\n",
        "'''d={1:100,2:200,3:300,4:400}\n",
        "print(d.keys())\n",
        "print(d.values())\n",
        "print(d.items())\n",
        "\n",
        "d={1:100,2:200,3:300,4:400}\n",
        "for i in d.keys():\n",
        "  print(i,end=\" \")\n",
        "print()\n",
        "for i in d.values():\n",
        "  print(i,end=\" \")'''\n",
        "\n",
        "# values method without inbuit keyboards\n",
        "'''d={1:100,2:200,3:300,4:400}\n",
        "for i in d:\n",
        "  print(i,end=\" \")\n",
        "print()\n",
        "for i in d:\n",
        "  print(d[i],end=\" \")'''\n",
        "\n",
        "# copy()\n",
        "'''d={1:100,2:200,3:300,4:400}\n",
        "#d1=d\n",
        "#d1=dict(d)\n",
        "d1=d1.copy()\n",
        "print(d1)'''\n",
        "\n",
        "# squares of no's\n",
        "'''d={i:i*i for i in range(10)}\n",
        "print(d)\n",
        "\n",
        "d={i:i*i for i in range(20) if (i%5==0)}\n",
        "print(d)'''\n",
        "\n",
        "\n",
        "\n"
      ],
      "metadata": {
        "colab": {
          "base_uri": "https://localhost:8080/"
        },
        "id": "u_S9-VEwBBYX",
        "outputId": "0ca5188d-abfe-4100-d80c-fafa03af893e"
      },
      "execution_count": null,
      "outputs": [
        {
          "output_type": "stream",
          "name": "stdout",
          "text": [
            "{0: 0, 1: 1, 2: 4, 3: 9, 4: 16, 5: 25, 6: 36, 7: 49, 8: 64, 9: 81}\n",
            "{0: 0, 5: 25, 10: 100, 15: 225}\n"
          ]
        }
      ]
    },
    {
      "cell_type": "code",
      "source": [
        "#  convert 12300 to 123\n",
        "n=int(input())\n",
        "if n==0:\n",
        "  print(\"0\")\n",
        "else:\n",
        "  while n%10==0:\n",
        "    n//=10\n",
        "  print(n)\n"
      ],
      "metadata": {
        "colab": {
          "base_uri": "https://localhost:8080/"
        },
        "id": "bar7bGxUViI-",
        "outputId": "38491763-e504-4bfd-fafc-40df45618d48"
      },
      "execution_count": null,
      "outputs": [
        {
          "output_type": "stream",
          "name": "stdout",
          "text": [
            "18505021\n",
            "18505021\n"
          ]
        }
      ]
    },
    {
      "cell_type": "code",
      "source": [
        "# no of digits x 5 power of digits\n",
        "n=int(input())\n",
        "if n<=99:\n",
        "  print(2*(5**2))\n",
        "elif n<=999:\n",
        "  print(3*(5**3))\n",
        "elif n<=9999:\n",
        "  print(4*(5**4))\n",
        "\n",
        "'''n=int(input())\n",
        "s=str(n)\n",
        "s.replace(\"-\",\"\")\n",
        "l=len(s)\n",
        "print(l*(5**l))'''"
      ],
      "metadata": {
        "colab": {
          "base_uri": "https://localhost:8080/"
        },
        "id": "ACkaZSfgZOzE",
        "outputId": "149e7d22-b236-4bd4-ee5b-6d3124e0f68e"
      },
      "execution_count": null,
      "outputs": [
        {
          "output_type": "stream",
          "name": "stdout",
          "text": [
            "-258\n",
            "2500\n"
          ]
        }
      ]
    },
    {
      "cell_type": "code",
      "source": [
        "l=[\"Sai ram\",\"Abhinav\",\"aBHINAV\"]\n",
        "l.sort()\n",
        "print(l)\n"
      ],
      "metadata": {
        "colab": {
          "base_uri": "https://localhost:8080/"
        },
        "id": "BXVkacRuaU-H",
        "outputId": "c792af01-0838-4189-b0f0-96689ead86f3"
      },
      "execution_count": null,
      "outputs": [
        {
          "output_type": "stream",
          "name": "stdout",
          "text": [
            "['Abhinav', 'Sai ram', 'aBHINAV']\n"
          ]
        }
      ]
    },
    {
      "cell_type": "code",
      "source": [
        "l=list(map(int,input().split(\" \")))\n",
        "ul=[]\n",
        "for i in l:\n",
        "    if i not in ul:\n",
        "        ul.append(i)\n",
        "\n",
        "if len(l)==len(ul):\n",
        "  print(\"no\")\n",
        "else:\n",
        "    for i in ul:\n",
        "        print(i,end=\" \")"
      ],
      "metadata": {
        "id": "EJJ3bjuyGFor"
      },
      "execution_count": null,
      "outputs": []
    }
  ]
}