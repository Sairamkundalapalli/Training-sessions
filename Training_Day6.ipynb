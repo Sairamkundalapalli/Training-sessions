{
  "nbformat": 4,
  "nbformat_minor": 0,
  "metadata": {
    "colab": {
      "provenance": [],
      "authorship_tag": "ABX9TyMoQkSsVc2lfWC6pKscdDZv",
      "include_colab_link": true
    },
    "kernelspec": {
      "name": "python3",
      "display_name": "Python 3"
    },
    "language_info": {
      "name": "python"
    }
  },
  "cells": [
    {
      "cell_type": "markdown",
      "metadata": {
        "id": "view-in-github",
        "colab_type": "text"
      },
      "source": [
        "<a href=\"https://colab.research.google.com/github/Sairamkundalapalli/Training-sessions/blob/main/Training_Day6.ipynb\" target=\"_parent\"><img src=\"https://colab.research.google.com/assets/colab-badge.svg\" alt=\"Open In Colab\"/></a>"
      ]
    },
    {
      "cell_type": "code",
      "execution_count": null,
      "metadata": {
        "colab": {
          "base_uri": "https://localhost:8080/"
        },
        "id": "hjRRYAvUUT34",
        "outputId": "5ff77541-c13c-4140-df44-beb1f6be7273"
      },
      "outputs": [
        {
          "output_type": "stream",
          "name": "stdout",
          "text": [
            "0 1 2 3 4 6\n",
            "5\n"
          ]
        }
      ],
      "source": [
        "# wap 0 2 3 4 5\n",
        "#1\n",
        "a=list(map(int,input().split(\" \")))\n",
        "# b=len(a)\n",
        "# c=b*(b+1)//2\n",
        "# d=sum(a)\n",
        "# print(c-d)\n",
        "\n",
        "count=0\n",
        "for i in a:\n",
        "  if count!=i:\n",
        "    break\n",
        "  count+=1\n",
        "print(count)\n"
      ]
    },
    {
      "cell_type": "code",
      "source": [
        "# wap 1 2 3 4 5\n",
        "# 2\n",
        "# 3 4 5 1 2\n",
        "\n",
        "l=list(map(int,input().split(\" \")))\n",
        "k=int(input())\n",
        "p=k%len(l)\n",
        "print(l[p:]+l[:p])"
      ],
      "metadata": {
        "colab": {
          "base_uri": "https://localhost:8080/"
        },
        "id": "YiYqfcbAXrK7",
        "outputId": "cfeebfe7-f40a-49f8-d1a1-80d06e49db39"
      },
      "execution_count": null,
      "outputs": [
        {
          "output_type": "stream",
          "name": "stdout",
          "text": [
            "1 2 3 4 5\n",
            "2\n",
            "[3, 4, 5, 1, 2]\n"
          ]
        }
      ]
    },
    {
      "cell_type": "code",
      "source": [
        "#wap sort two lists without using inbuilt\n",
        "#  1 3 5\n",
        "#  2 6 4\n",
        "#  1 2 3 4 5 6\n",
        "l1=list(map(int,input().split(\" \")))\n",
        "l2=list(map(int,input().split(\" \")))\n",
        "l=l1+l2\n",
        "for i in range(len(l)):\n",
        "  for j in range(i+1,len(l)):\n",
        "    if l[i]>l[j]:\n",
        "      l[i],l[j]=l[j],l[i]\n",
        "print(*l)\n",
        "\n",
        "\n",
        "\n"
      ],
      "metadata": {
        "colab": {
          "base_uri": "https://localhost:8080/"
        },
        "id": "gKqDp7M7a5Mk",
        "outputId": "b7ef2bc7-158a-4ac8-c79d-a6c909d44073"
      },
      "execution_count": null,
      "outputs": [
        {
          "output_type": "stream",
          "name": "stdout",
          "text": [
            "6 4 5\n",
            "1 2 3\n",
            "1 2 3 4 5 6\n"
          ]
        }
      ]
    },
    {
      "cell_type": "code",
      "source": [
        "#wap to print duplicates\n",
        "l=[1,2,3,5,4,1,2,8,4]\n",
        "l1=[]\n",
        "l2=[]\n",
        "for i in l:\n",
        "  if i not in l1:\n",
        "    l1.append(i)\n",
        "  else:\n",
        "    l2.append(i)\n",
        "print(*l2)\n"
      ],
      "metadata": {
        "colab": {
          "base_uri": "https://localhost:8080/"
        },
        "id": "18ssmuD9fdXl",
        "outputId": "29ed5c5e-8c34-4b7f-ac18-9839392e4476"
      },
      "execution_count": null,
      "outputs": [
        {
          "output_type": "stream",
          "name": "stdout",
          "text": [
            "1 2 4\n"
          ]
        }
      ]
    },
    {
      "cell_type": "code",
      "source": [
        "# compare two lists and print print unique values\n",
        "l = [1, 2, 3, 5, 2, 3]\n",
        "l1 = [2, 3, 4, 5, 89, 7, 8, 3, 5, 3]\n",
        "ans = []\n",
        "for i in l:\n",
        "    if i in l1 and i not in ans:\n",
        "        ans.append(i)\n",
        "if len(ans) > 0:\n",
        "    print(\"Common elements:\", *ans)\n",
        "else:\n",
        "    print(\"no matched elements\")\n"
      ],
      "metadata": {
        "colab": {
          "base_uri": "https://localhost:8080/"
        },
        "id": "u2peZ9dKhKPV",
        "outputId": "31ca2e2d-4bb8-4cc6-892a-c454f98480ec"
      },
      "execution_count": null,
      "outputs": [
        {
          "output_type": "stream",
          "name": "stdout",
          "text": [
            "Common elements: 2 3 5\n"
          ]
        }
      ]
    },
    {
      "cell_type": "code",
      "source": [
        "#wap frequency of numbers\n",
        "# 1:2\n",
        "# 2:2\n",
        "# 3:2\n",
        "\n",
        "l=[10,20,30,10,20,30,45,15,69]\n",
        "d={}\n",
        "for i in l:\n",
        "  if i in d:\n",
        "    d[i]+=1\n",
        "  else:\n",
        "    d[i]=1\n",
        "for k,v in d.items():\n",
        "  print(k,\":\",v)\n"
      ],
      "metadata": {
        "colab": {
          "base_uri": "https://localhost:8080/"
        },
        "id": "7XhQibLykR_I",
        "outputId": "164369d0-7c98-48aa-b8bc-2af817d1932d"
      },
      "execution_count": null,
      "outputs": [
        {
          "output_type": "stream",
          "name": "stdout",
          "text": [
            "10 : 2\n",
            "20 : 2\n",
            "30 : 2\n",
            "45 : 1\n",
            "15 : 1\n",
            "69 : 1\n"
          ]
        }
      ]
    },
    {
      "cell_type": "code",
      "source": [
        "# 3 to keysinterchanging the keys to values\n",
        "# a 1\n",
        "# b 2\n",
        "# c 3\n",
        "\n",
        "# 1 a\n",
        "# 2 b\n",
        "# 3 c\n",
        "\n",
        "n=int(input())\n",
        "d={}\n",
        "for i in range(n):\n",
        "  key,value=input().split()\n",
        "  d[value]=key\n",
        "for k,v in d.items():\n",
        "  print(k,v)"
      ],
      "metadata": {
        "colab": {
          "base_uri": "https://localhost:8080/"
        },
        "id": "7bhDHld-mwe4",
        "outputId": "345c73b7-3c1a-4894-a873-42ee5caea391"
      },
      "execution_count": null,
      "outputs": [
        {
          "output_type": "stream",
          "name": "stdout",
          "text": [
            "1\n",
            "1 a\n",
            "a 1\n"
          ]
        }
      ]
    },
    {
      "cell_type": "code",
      "source": [
        "# 2\n",
        "# a 1\n",
        "# b 1\n",
        "# 1: a b\n",
        "n = int(input())\n",
        "d = {}\n",
        "for i in range(n):\n",
        "    key, value = input().split()\n",
        "    d[key] = int(value)\n",
        "\n",
        "new_d = {}\n",
        "for key, value in d.items():\n",
        "    if value not in new_d:\n",
        "        new_d[value] = []\n",
        "    new_d[value].append(key)\n",
        "\n",
        "for k, v in new_d.items():\n",
        "    print(f\"{k}: {' '.join(v)}\")\n"
      ],
      "metadata": {
        "colab": {
          "base_uri": "https://localhost:8080/"
        },
        "id": "naX3Ur_IvdIG",
        "outputId": "052b6394-64b5-4eb2-9f4e-cb08e94e5835"
      },
      "execution_count": null,
      "outputs": [
        {
          "output_type": "stream",
          "name": "stdout",
          "text": [
            "2\n",
            "a 1\n",
            "b 1\n",
            "1: a b\n"
          ]
        }
      ]
    },
    {
      "cell_type": "markdown",
      "source": [
        "#**RECURSION**"
      ],
      "metadata": {
        "id": "1cJ9lfk7zZJD"
      }
    },
    {
      "cell_type": "code",
      "source": [
        "#---------------->it is a process of function calling itself\n",
        "\n",
        "#factorial\n",
        "def fact(n):\n",
        "  if n==0:\n",
        "    return 1\n",
        "  return n*fact(n-1)\n",
        "print(fact(5))\n",
        "\n",
        "#\n",
        "def sum(n):\n",
        "  if n==0:\n",
        "    return 0\n",
        "  return n+sum(n-1)\n",
        "print(sum(10))\n",
        "\n",
        "#fibonacci\n",
        "def fib(n):\n",
        "  if n==0 or n==1:\n",
        "    return n\n",
        "  return fib(n-1)+fib(n-2)\n",
        "n=int(input())\n",
        "for i in range(n):\n",
        "  print(fib(i),end=\" \")\n",
        "\n"
      ],
      "metadata": {
        "colab": {
          "base_uri": "https://localhost:8080/"
        },
        "id": "g-Bxka8tzYrY",
        "outputId": "b2c2619b-031e-4135-86a7-171dc5b353fe"
      },
      "execution_count": null,
      "outputs": [
        {
          "output_type": "stream",
          "name": "stdout",
          "text": [
            "120\n",
            "55\n",
            "5\n",
            "0 1 1 2 3 "
          ]
        }
      ]
    },
    {
      "cell_type": "code",
      "source": [
        "#string palindrome or not using function\n",
        "def p(n):\n",
        "  if len(n)==0:\n",
        "    return \"\"\n",
        "  return n[-1]+p(n[:-1])\n",
        "n=\"sairam\"\n",
        "a=p(n)\n",
        "if(n==a):\n",
        "  print(\"palindrome\")\n",
        "else:\n",
        "  print(\"not a palindrome\")\n"
      ],
      "metadata": {
        "colab": {
          "base_uri": "https://localhost:8080/"
        },
        "id": "HAn5M7hF46Ac",
        "outputId": "9b436fc9-994c-401c-ce51-a535882d8992"
      },
      "execution_count": null,
      "outputs": [
        {
          "output_type": "stream",
          "name": "stdout",
          "text": [
            "saiias\n",
            "palindrome\n"
          ]
        }
      ]
    },
    {
      "cell_type": "code",
      "source": [
        "#palindrome or not for a number\n",
        "n=int(input())\n",
        "rev=0\n",
        "temp=n\n",
        "while(temp!=0):\n",
        "  d=temp%10\n",
        "  rev=(rev*10)+d\n",
        "  temp//=10\n",
        "if (n==rev):\n",
        "  print(\"palindrome\")\n",
        "else:\n",
        "  print(\"palindrome\")\n",
        "\n"
      ],
      "metadata": {
        "colab": {
          "base_uri": "https://localhost:8080/"
        },
        "id": "K-T0ttzd9Nr0",
        "outputId": "5ab4b319-5ec0-4cf0-9152-ad46c8f69068"
      },
      "execution_count": null,
      "outputs": [
        {
          "output_type": "stream",
          "name": "stdout",
          "text": [
            "1221\n",
            "palindrome\n"
          ]
        }
      ]
    },
    {
      "cell_type": "markdown",
      "source": [
        "#**Exception Handling**"
      ],
      "metadata": {
        "id": "Hqp7ODtzQ3Jb"
      }
    },
    {
      "cell_type": "code",
      "source": [
        "# ----------->we can access logical error\n",
        "# ------------>three blocks namely try,except,finally block\n",
        "# ---------->TYPES\n",
        "# --------->ValueError\n",
        "# --------->ZeroDivisionError\n",
        "# -------->we can access many excpt block for a single try block\n",
        "try:\n",
        "  n=int(input())\n",
        "  print(n)\n",
        "except ValueError as e:                    #gives a message\n",
        "  print(e)\n",
        "finally:\n",
        "  print(\"finally\")"
      ],
      "metadata": {
        "colab": {
          "base_uri": "https://localhost:8080/"
        },
        "id": "0jCUomr4Q6ty",
        "outputId": "ddf4ba7d-cebc-4b7e-abe4-26043bcdb0e9"
      },
      "execution_count": null,
      "outputs": [
        {
          "output_type": "stream",
          "name": "stdout",
          "text": [
            "abc\n",
            "invalid literal for int() with base 10: 'abc'\n",
            "finally\n"
          ]
        }
      ]
    },
    {
      "cell_type": "code",
      "source": [
        "#ZeroDivisionError\n",
        "try:\n",
        "  n=int(input(\"enter the value of n:\"))\n",
        "  m=int(input(\"enter the value of m:\"))\n",
        "  print(\"%.3f\"%(n/m))\n",
        "except ZeroDivisionError as e:\n",
        "  print(e)\n",
        "finally:\n",
        "  print(\"finally\")"
      ],
      "metadata": {
        "colab": {
          "base_uri": "https://localhost:8080/"
        },
        "id": "v14UXhG_VHeH",
        "outputId": "38d1ba0e-1f92-4fe6-d8dc-79e0f0968f6f"
      },
      "execution_count": null,
      "outputs": [
        {
          "output_type": "stream",
          "name": "stdout",
          "text": [
            "enter the value of n:450\n",
            "enter the value of m:5\n",
            "90.000\n",
            "finally\n"
          ]
        }
      ]
    },
    {
      "cell_type": "code",
      "source": [
        "#ZeroDivisionError and value error\n",
        "try:\n",
        "  n=int(input(\"enter the value of n:\"))\n",
        "  m=int(input(\"enter the value of m:\"))\n",
        "  print(\"%.3f\"%(n/m))\n",
        "except ZeroDivisionError as e:\n",
        "  print(e)\n",
        "except ValueError as e:\n",
        "  print(\"Enter the int value\")\n",
        "finally:\n",
        "  print(\"finally\")"
      ],
      "metadata": {
        "colab": {
          "base_uri": "https://localhost:8080/"
        },
        "id": "2J_FhAlfWkxC",
        "outputId": "958461db-3a11-4c14-e1c8-5e543b2f16e5"
      },
      "execution_count": null,
      "outputs": [
        {
          "output_type": "stream",
          "name": "stdout",
          "text": [
            "enter the value of n:56\n",
            "enter the value of m:7\n",
            "8.000\n",
            "finally\n"
          ]
        }
      ]
    },
    {
      "cell_type": "code",
      "source": [
        "# a=123456\n",
        "# l=[int(i) for i in reversed(str(a))]\n",
        "# print(l)\n",
        "\n",
        "a=123456\n",
        "l=[]\n",
        "while(a!=0):\n",
        "  l.append(a%10)\n",
        "  a//=10\n",
        "print(l)\n",
        "\n"
      ],
      "metadata": {
        "colab": {
          "base_uri": "https://localhost:8080/"
        },
        "id": "x5FKuekoZHB8",
        "outputId": "cddbb15c-cd9b-4ef2-853a-2ed8ef386e2b"
      },
      "execution_count": null,
      "outputs": [
        {
          "output_type": "stream",
          "name": "stdout",
          "text": [
            "[6, 5, 4, 3, 2, 1]\n"
          ]
        }
      ]
    },
    {
      "cell_type": "code",
      "source": [
        "n=5\n",
        "a=1\n",
        "for i in range(1,n+1):\n",
        "  for j in range(1,n+1):\n",
        "    if i==1 :\n",
        "      print(j,end=\" \")\n",
        "      a+=1\n",
        "    elif j==n:\n",
        "      print(a)\n",
        "      a+=1\n",
        "    elif i==n:\n",
        "      print(a,end=\" \")\n",
        "      a+=1\n",
        "    else:\n",
        "      print(\" \",end=\" \")\n",
        "      #a+=1\n",
        "\n",
        "  print()"
      ],
      "metadata": {
        "colab": {
          "base_uri": "https://localhost:8080/"
        },
        "id": "76tKgrdum7un",
        "outputId": "fc274ba3-9a49-46f4-86ee-232aefefb775"
      },
      "execution_count": null,
      "outputs": [
        {
          "output_type": "stream",
          "name": "stdout",
          "text": [
            "1 2 3 4 5 \n",
            "        6\n",
            "\n",
            "        7\n",
            "\n",
            "        8\n",
            "\n",
            "9 10 11 12 13\n",
            "\n"
          ]
        }
      ]
    },
    {
      "cell_type": "code",
      "source": [
        "rows, cols = 5, 5\n",
        "num = 1\n",
        "pattern = [[0 for _ in range(cols)] for _ in range(rows)]\n",
        "top, bottom, left, right = 0, rows - 1, 0, cols - 1\n",
        "\n",
        "while top <= bottom and left <= right:\n",
        "    # Fill top row\n",
        "    for i in range(left, right + 1):\n",
        "        pattern[top][i] = num\n",
        "        num += 1\n",
        "    top += 1\n",
        "\n",
        "    # Fill right column\n",
        "    for i in range(top, bottom + 1):\n",
        "        pattern[i][right] = num\n",
        "        num += 1\n",
        "    right -= 1\n",
        "\n",
        "    # Fill bottom row\n",
        "    if top <= bottom:  # Check to avoid over-writing in the top row\n",
        "        for i in range(right, left - 1, -1):\n",
        "            pattern[bottom][i] = num\n",
        "            num += 1\n",
        "        bottom -= 1\n",
        "\n",
        "    # Fill left column\n",
        "    if left <= right:  # Check to avoid over-writing in the right column\n",
        "        for i in range(bottom, top - 1, -1):\n",
        "            pattern[i][left] = num\n",
        "            num += 1\n",
        "        left += 1\n",
        "\n",
        "# Print the spiral pattern\n",
        "for row in pattern:\n",
        "    print(*row)\n"
      ],
      "metadata": {
        "colab": {
          "base_uri": "https://localhost:8080/"
        },
        "id": "U9t9rGNCn25T",
        "outputId": "988a3b29-f841-4687-dd51-0c49de1b334f"
      },
      "execution_count": null,
      "outputs": [
        {
          "output_type": "stream",
          "name": "stdout",
          "text": [
            "1 2 3 4 5\n",
            "16 17 18 19 6\n",
            "15 24 25 20 7\n",
            "14 23 22 21 8\n",
            "13 12 11 10 9\n"
          ]
        }
      ]
    },
    {
      "cell_type": "code",
      "source": [],
      "metadata": {
        "id": "cxqboO2Gbet4"
      },
      "execution_count": null,
      "outputs": []
    }
  ]
}