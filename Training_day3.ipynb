{
  "nbformat": 4,
  "nbformat_minor": 0,
  "metadata": {
    "colab": {
      "provenance": [],
      "authorship_tag": "ABX9TyOuArZffTBvgi3JUdh6QFz7",
      "include_colab_link": true
    },
    "kernelspec": {
      "name": "python3",
      "display_name": "Python 3"
    },
    "language_info": {
      "name": "python"
    }
  },
  "cells": [
    {
      "cell_type": "markdown",
      "metadata": {
        "id": "view-in-github",
        "colab_type": "text"
      },
      "source": [
        "<a href=\"https://colab.research.google.com/github/Sairamkundalapalli/Training-sessions/blob/main/Training_day3.ipynb\" target=\"_parent\"><img src=\"https://colab.research.google.com/assets/colab-badge.svg\" alt=\"Open In Colab\"/></a>"
      ]
    },
    {
      "cell_type": "code",
      "source": [
        "#vowel or consonent\n",
        "a=input()\n",
        "print(\"vowel\" if a in \"AEIOUaeiou\" else \"consonent\")"
      ],
      "metadata": {
        "colab": {
          "base_uri": "https://localhost:8080/"
        },
        "id": "e3DGTAO66CHL",
        "outputId": "091eeb4e-31bd-463e-e4c9-3092e68d7d3f"
      },
      "execution_count": null,
      "outputs": [
        {
          "output_type": "stream",
          "name": "stdout",
          "text": [
            "l\n",
            "consonent\n"
          ]
        }
      ]
    },
    {
      "cell_type": "code",
      "source": [
        "n=int(input())\n",
        "for i in range(1,n+1):\n",
        "  print(i**2,end=\" \")"
      ],
      "metadata": {
        "id": "KGeLfcdw_zBD"
      },
      "execution_count": null,
      "outputs": []
    },
    {
      "cell_type": "code",
      "source": [
        "n=int(input())\n",
        "for i in range(1,n+1):\n",
        "  print(i**3,end=\" \")"
      ],
      "metadata": {
        "id": "samL-7HP_776"
      },
      "execution_count": null,
      "outputs": []
    },
    {
      "cell_type": "code",
      "source": [
        "#odd or even\n",
        "n=int(input())\n",
        "for i in range(n,-1,-2):\n",
        "  print(i,end=\" \")"
      ],
      "metadata": {
        "colab": {
          "base_uri": "https://localhost:8080/"
        },
        "id": "gZ6lOXq46eCv",
        "outputId": "3de9278c-d3ae-4109-c175-293427a01825"
      },
      "execution_count": null,
      "outputs": [
        {
          "output_type": "stream",
          "name": "stdout",
          "text": [
            "6\n",
            "6 4 2 0 "
          ]
        }
      ]
    },
    {
      "cell_type": "code",
      "source": [
        "#fibonacci\n",
        "n=int(input())\n",
        "a,b=0,1\n",
        "print(a,b,end=\" \")\n",
        "for i in range(n+1):\n",
        "  c=a+b\n",
        "  print(c,end=\" \")\n",
        "  a=b\n",
        "  b=c\n"
      ],
      "metadata": {
        "colab": {
          "base_uri": "https://localhost:8080/"
        },
        "id": "fV3I-6ZC8Iu5",
        "outputId": "8bbd8ee9-11c9-4771-afe7-8be2dfe24d55"
      },
      "execution_count": null,
      "outputs": [
        {
          "output_type": "stream",
          "name": "stdout",
          "text": [
            "6\n",
            "0 1 1 2 3 5 8 13 21 "
          ]
        }
      ]
    },
    {
      "cell_type": "code",
      "source": [
        "#prime no's\n",
        "n=int(input())\n",
        "for i in range(2,n+1):\n",
        "  for j in range(2,i):\n",
        "    if i%j==0:\n",
        "      break\n",
        "  else:\n",
        "    print(i,end=\" \")"
      ],
      "metadata": {
        "colab": {
          "base_uri": "https://localhost:8080/"
        },
        "id": "6zSLH3TBB8Iu",
        "outputId": "0ddb5bf0-5c46-4c99-9e39-4850577dc62f"
      },
      "execution_count": null,
      "outputs": [
        {
          "output_type": "stream",
          "name": "stdout",
          "text": [
            "8\n",
            "2 3 5 7 "
          ]
        }
      ]
    },
    {
      "cell_type": "code",
      "source": [
        "#sum of no's up to n\n",
        "n=int(input())\n",
        "for i in range(1,n+1):\n",
        "  print(i*(i+1)//2,end=\" \")"
      ],
      "metadata": {
        "colab": {
          "base_uri": "https://localhost:8080/"
        },
        "id": "NmzRiR1FEgx7",
        "outputId": "10314057-2838-4da4-eba1-0ab72b510323"
      },
      "execution_count": null,
      "outputs": [
        {
          "output_type": "stream",
          "name": "stdout",
          "text": [
            "6\n",
            "1 3 6 10 15 21 "
          ]
        }
      ]
    },
    {
      "cell_type": "code",
      "source": [
        "#1 2 5 12 27 58\n",
        "n=int(input())\n",
        "for i in range(1,n+1):\n",
        "  print((2**i)-i,end=\" \")\n"
      ],
      "metadata": {
        "colab": {
          "base_uri": "https://localhost:8080/"
        },
        "id": "rGI30OhvH9jS",
        "outputId": "46283a5c-3c51-4b7b-d9a3-e30a1709cf2c"
      },
      "execution_count": null,
      "outputs": [
        {
          "output_type": "stream",
          "name": "stdout",
          "text": [
            "5\n",
            "1 2 5 12 27 "
          ]
        }
      ]
    },
    {
      "cell_type": "markdown",
      "source": [
        "##Patterns"
      ],
      "metadata": {
        "id": "3QMd6qvtI7ce"
      }
    },
    {
      "cell_type": "code",
      "source": [
        "n=5\n",
        "for i in range(1,n+1):\n",
        "  for j in range(1,n+1):\n",
        "    print(i,j,\" \",end=\" \")\n",
        "  print()"
      ],
      "metadata": {
        "colab": {
          "base_uri": "https://localhost:8080/"
        },
        "id": "EbPtwMyXRaZb",
        "outputId": "41f5a4c5-7540-49fa-d160-b1f19c724652"
      },
      "execution_count": null,
      "outputs": [
        {
          "output_type": "stream",
          "name": "stdout",
          "text": [
            "1 1   1 2   1 3   1 4   1 5   \n",
            "2 1   2 2   2 3   2 4   2 5   \n",
            "3 1   3 2   3 3   3 4   3 5   \n",
            "4 1   4 2   4 3   4 4   4 5   \n",
            "5 1   5 2   5 3   5 4   5 5   \n"
          ]
        }
      ]
    },
    {
      "cell_type": "code",
      "source": [
        "n=5\n",
        "for i in range(1,n+1):\n",
        "  for j in range(i,n+1):\n",
        "    print(\"*\",end=\" \")\n",
        "  print()"
      ],
      "metadata": {
        "colab": {
          "base_uri": "https://localhost:8080/"
        },
        "id": "pqmSHZvPI6bT",
        "outputId": "3fb53415-28ba-4f6b-a1fe-04477beea362"
      },
      "execution_count": null,
      "outputs": [
        {
          "output_type": "stream",
          "name": "stdout",
          "text": [
            "* * * * * \n",
            "* * * * * \n",
            "* * * * * \n",
            "* * * * * \n",
            "* * * * * \n"
          ]
        }
      ]
    },
    {
      "cell_type": "code",
      "source": [
        "n=5\n",
        "for i in range(1,n+1):\n",
        "  for j in range(1,n+1):\n",
        "    print(i,end=\" \")\n",
        "  print()"
      ],
      "metadata": {
        "colab": {
          "base_uri": "https://localhost:8080/"
        },
        "id": "quSSMNwqRDLI",
        "outputId": "9afe7302-9bfe-4f52-e249-9d72165b0911"
      },
      "execution_count": null,
      "outputs": [
        {
          "output_type": "stream",
          "name": "stdout",
          "text": [
            "1 1 1 1 1 \n",
            "2 2 2 2 2 \n",
            "3 3 3 3 3 \n",
            "4 4 4 4 4 \n",
            "5 5 5 5 5 \n"
          ]
        }
      ]
    },
    {
      "cell_type": "code",
      "source": [
        "# print(ord('a'))\n",
        "# print(chr(97))\n",
        "n=5\n",
        "for i in range(1,n+1):\n",
        "  for j in range(1,n+1):\n",
        "    print(chr(i+96),end=\" \")\n",
        "  print()"
      ],
      "metadata": {
        "colab": {
          "base_uri": "https://localhost:8080/"
        },
        "id": "ouHOcVK7TeCm",
        "outputId": "76ef5bb3-bda7-453a-b016-d527618f7753"
      },
      "execution_count": null,
      "outputs": [
        {
          "output_type": "stream",
          "name": "stdout",
          "text": [
            "a a a a a \n",
            "b b b b b \n",
            "c c c c c \n",
            "d d d d d \n",
            "e e e e e \n"
          ]
        }
      ]
    },
    {
      "cell_type": "code",
      "source": [
        "n=5\n",
        "for i in range(1,n+1):\n",
        "  for j in range(1,n+1):\n",
        "    print(chr(j+64),end=\" \")\n",
        "  print()"
      ],
      "metadata": {
        "colab": {
          "base_uri": "https://localhost:8080/"
        },
        "id": "NpGDqnNIUOz7",
        "outputId": "4a7b1144-6a17-4db3-f6b1-a7de01df6982"
      },
      "execution_count": null,
      "outputs": [
        {
          "output_type": "stream",
          "name": "stdout",
          "text": [
            "A B C D E \n",
            "A B C D E \n",
            "A B C D E \n",
            "A B C D E \n",
            "A B C D E \n"
          ]
        }
      ]
    },
    {
      "cell_type": "code",
      "source": [
        "#hallow sphere\n",
        "n=5\n",
        "for i in range(1,n+1):\n",
        "  for j in range(1,n+1):\n",
        "    if(i==1 or i==n or j==1 or j==n):\n",
        "      print(\"*\",end=\" \")\n",
        "    else:\n",
        "      print(\" \",end=\" \")\n",
        "  print()"
      ],
      "metadata": {
        "colab": {
          "base_uri": "https://localhost:8080/"
        },
        "id": "18N9fMrZVx5d",
        "outputId": "0ad6a188-6e2f-4501-956c-830feab00167"
      },
      "execution_count": null,
      "outputs": [
        {
          "output_type": "stream",
          "name": "stdout",
          "text": [
            "* * * * * \n",
            "*       * \n",
            "*       * \n",
            "*       * \n",
            "* * * * * \n"
          ]
        }
      ]
    },
    {
      "cell_type": "code",
      "source": [
        "#hallow sphere with diagonals\n",
        "n=5\n",
        "for i in range(1,n+1):\n",
        "  for j in range(1,n+1):\n",
        "    if(i==1 or i==n or j==1 or j==n or i==j or i+j==n+1):\n",
        "      print(\"*\",end=\" \")\n",
        "    else:\n",
        "      print(\" \",end=\" \")\n",
        "  print()"
      ],
      "metadata": {
        "colab": {
          "base_uri": "https://localhost:8080/"
        },
        "id": "cLa8Yh1FXM81",
        "outputId": "83df4383-d01f-4486-f0ff-4006e5871d83"
      },
      "execution_count": null,
      "outputs": [
        {
          "output_type": "stream",
          "name": "stdout",
          "text": [
            "* * * * * \n",
            "* *   * * \n",
            "*   *   * \n",
            "* *   * * \n",
            "* * * * * \n"
          ]
        }
      ]
    },
    {
      "cell_type": "code",
      "source": [
        "#hallow sphere with +\n",
        "n=5\n",
        "for i in range(1,n+1):\n",
        "  for j in range(1,n+1):\n",
        "    if(i==1 or i==n or j==1 or j==n or i==3 or j==3):\n",
        "      print(\"*\",end=\" \")\n",
        "    else:\n",
        "      print(\" \",end=\" \")\n",
        "  print()"
      ],
      "metadata": {
        "colab": {
          "base_uri": "https://localhost:8080/"
        },
        "id": "-kDSTZNlZ6w2",
        "outputId": "20842d00-42ba-4708-fd56-46cdf477fcb0"
      },
      "execution_count": null,
      "outputs": [
        {
          "output_type": "stream",
          "name": "stdout",
          "text": [
            "* * * * * \n",
            "*   *   * \n",
            "* * * * * \n",
            "*   *   * \n",
            "* * * * * \n"
          ]
        }
      ]
    },
    {
      "cell_type": "code",
      "source": [
        "#Diamond\n",
        "n=5\n",
        "for i in range(1,n+1):\n",
        "  for j in range(1,n+1):\n",
        "    if(i+j==4 or i+j==8 or i*j==8):\n",
        "      print(\"*\",end=\" \")\n",
        "    else:\n",
        "      print(\" \",end=\" \")\n",
        "  print()"
      ],
      "metadata": {
        "colab": {
          "base_uri": "https://localhost:8080/"
        },
        "id": "ATIOWGpJaxQs",
        "outputId": "ad5c7960-e021-459f-8bdb-f04727199e01"
      },
      "execution_count": null,
      "outputs": [
        {
          "output_type": "stream",
          "name": "stdout",
          "text": [
            "    *     \n",
            "  *   *   \n",
            "*       * \n",
            "  *   *   \n",
            "    *     \n"
          ]
        }
      ]
    },
    {
      "cell_type": "code",
      "source": [
        "#right angle triangle\n",
        "n=5\n",
        "for i in range(1,n+1):\n",
        "  for j in range(i):\n",
        "      print(\"*\",end=\" \")\n",
        "  print()"
      ],
      "metadata": {
        "colab": {
          "base_uri": "https://localhost:8080/"
        },
        "id": "vFHlUmCte5wF",
        "outputId": "297d584a-4776-46c4-a73a-b33ae30ee0a2"
      },
      "execution_count": null,
      "outputs": [
        {
          "output_type": "stream",
          "name": "stdout",
          "text": [
            "* \n",
            "* * \n",
            "* * * \n",
            "* * * * \n",
            "* * * * * \n"
          ]
        }
      ]
    },
    {
      "cell_type": "code",
      "source": [
        "#reverse of RAT\n",
        "n=5\n",
        "for i in range(1,n+1):\n",
        "  for j in range(n+1-i):\n",
        "      print(\"*\",end=\" \")\n",
        "  print()"
      ],
      "metadata": {
        "colab": {
          "base_uri": "https://localhost:8080/"
        },
        "id": "yIp8HH53g9CI",
        "outputId": "bfe3e764-07d5-4f6b-a911-8cc2f873b12c"
      },
      "execution_count": 119,
      "outputs": [
        {
          "output_type": "stream",
          "name": "stdout",
          "text": [
            "* * * * * \n",
            "* * * * \n",
            "* * * \n",
            "* * \n",
            "* \n"
          ]
        }
      ]
    },
    {
      "cell_type": "code",
      "source": [
        "#left angle triangle\n",
        "n=5\n",
        "for i in range(1,n+1):\n",
        "  for j in range(1,n+1):\n",
        "    if i+j>=6:\n",
        "        print(\"*\",end=\" \")\n",
        "    else:\n",
        "      print(\" \",end=\" \")\n",
        "  print()"
      ],
      "metadata": {
        "colab": {
          "base_uri": "https://localhost:8080/"
        },
        "id": "GPEyGffaiXxn",
        "outputId": "4c9421db-11d9-4095-aebf-2760f2f9b873"
      },
      "execution_count": 122,
      "outputs": [
        {
          "output_type": "stream",
          "name": "stdout",
          "text": [
            "          * \n",
            "        * * \n",
            "      * * * \n",
            "    * * * * \n",
            "  * * * * * \n"
          ]
        }
      ]
    },
    {
      "cell_type": "code",
      "source": [
        "#full triangle\n",
        "n=5\n",
        "for i in range(1,n+1):\n",
        "  for j in range(n+1):\n",
        "    if i+j>=6:\n",
        "        print(\"*\",end=\" \")\n",
        "    else:\n",
        "      print(\" \",end=\"\")\n",
        "  print()"
      ],
      "metadata": {
        "colab": {
          "base_uri": "https://localhost:8080/"
        },
        "id": "WCCbyPyMjVPz",
        "outputId": "de0c783c-1f5c-4c40-a2dd-aefeb5ec289c"
      },
      "execution_count": 153,
      "outputs": [
        {
          "output_type": "stream",
          "name": "stdout",
          "text": [
            "     * \n",
            "    * * \n",
            "   * * * \n",
            "  * * * * \n",
            " * * * * * \n"
          ]
        }
      ]
    },
    {
      "cell_type": "code",
      "source": [
        "#Reverse Full triangle\n",
        "for i in range(1,n+1):\n",
        "      for j in range(1,n+1):\n",
        "            if(i<=j):\n",
        "                 print(\"*\",end=\" \")\n",
        "            else:\n",
        "                  print(\" \",end=\"\")\n",
        "      print()"
      ],
      "metadata": {
        "colab": {
          "base_uri": "https://localhost:8080/"
        },
        "id": "I813NvmOMu3B",
        "outputId": "169a2644-3985-4d2d-f4ee-45819a275aed"
      },
      "execution_count": 220,
      "outputs": [
        {
          "output_type": "stream",
          "name": "stdout",
          "text": [
            "* * * * * \n",
            " * * * * \n",
            "  * * * \n",
            "   * * \n",
            "    * \n"
          ]
        }
      ]
    },
    {
      "cell_type": "code",
      "source": [
        "#Diamond\n",
        "n=5\n",
        "for i in range(1,n):\n",
        "    for j in range(1,n+1):\n",
        "            if(i+j>=6):\n",
        "                 print(\"*\",end=\" \")\n",
        "            else:\n",
        "                 print(\" \",end=\"\")\n",
        "\n",
        "    print()\n",
        "for i in range(1,n+1):\n",
        "      for j in range(1,n+1):\n",
        "            if(i<=j):\n",
        "                 print(\"*\",end=\" \")\n",
        "            else:\n",
        "                  print(\" \",end=\"\")\n",
        "      print()"
      ],
      "metadata": {
        "colab": {
          "base_uri": "https://localhost:8080/"
        },
        "id": "56bb8cvD5pbw",
        "outputId": "8fb2be13-b46f-4c14-ac6a-a09c77a67702"
      },
      "execution_count": 163,
      "outputs": [
        {
          "output_type": "stream",
          "name": "stdout",
          "text": [
            "    * \n",
            "   * * \n",
            "  * * * \n",
            " * * * * \n",
            "* * * * * \n",
            " * * * * \n",
            "  * * * \n",
            "   * * \n",
            "    * \n"
          ]
        }
      ]
    },
    {
      "cell_type": "code",
      "source": [
        "#first letter of your name\n",
        "n=5\n",
        "for i in range(1,n+1):\n",
        "  for j in range(1,n+1):\n",
        "    if i==1 or i==3 or i==5 or i*j==n-3 or i*j==n+15:\n",
        "      print(\"*\",end=\" \")\n",
        "    else:\n",
        "      print(\" \",end=\" \")\n",
        "  print()\n",
        "\n",
        "\n"
      ],
      "metadata": {
        "colab": {
          "base_uri": "https://localhost:8080/"
        },
        "id": "nJegWFualx8P",
        "outputId": "4fbd084c-2b53-49c6-8d0a-d34944e761de"
      },
      "execution_count": 152,
      "outputs": [
        {
          "output_type": "stream",
          "name": "stdout",
          "text": [
            "* * * * * \n",
            "*         \n",
            "* * * * * \n",
            "        * \n",
            "* * * * * \n"
          ]
        }
      ]
    },
    {
      "cell_type": "markdown",
      "source": [
        "#Lists"
      ],
      "metadata": {
        "id": "RFQqw5Xf_4sb"
      }
    },
    {
      "cell_type": "code",
      "source": [
        "# #Lists[]\n",
        "# ---------->heteragenius\n",
        "# ---------->duplicates\n",
        "# ---------->we can access the elements by index\n",
        "# ---------->mutable/changable\n",
        "# ------------>cant give user input\n",
        "\n",
        "''' l=[12,34,\"Hello\",8,True,23,67]'''\n",
        "\n",
        "#user input\n",
        "'''l=list()\n",
        "print(l)\n",
        "print(type(l))'''\n",
        "\n",
        "#Range in list\n",
        "'''l=list(range(1,10+1,3))\n",
        "print(l)\n",
        "print(type(l))'''\n",
        "\n",
        "#length\n",
        "'''l=[12,34,\"Hello\",8,True,23,67]\n",
        "print(len(l))'''\n",
        "\n",
        "#index in list\n",
        "'''l=[12,34,\"Hello\",8,True,23,67]\n",
        "print(l.index(\"Hello\"))'''\n",
        "\n",
        "#count\n",
        "'''l=[12,34,\"Hello\",45,True,23,67,12,45,12,112,12]\n",
        "print(l.count(12))'''\n",
        "\n",
        "#max\n",
        "'''l=[12,34,156,789,568,2526,533,7852]\n",
        "print(max(l))'''\n",
        "\n",
        "#min\n",
        "'''l=[12,34,156,789,568,2526,533,7852]\n",
        "print(min(l))'''\n",
        "\n",
        "#index finding in duplicate case\n",
        "'''l=[12,34,156,789,568,12,533,7852]\n",
        "print(l.index(12))'''\n",
        "\n",
        "#sum\n",
        "'''l=[12,34,156,789,568,2526,533,7852]\n",
        "print(sum(l))'''\n",
        "\n",
        "#Avg\n",
        "'''l=[1,2,3,4,5,6,7,8,9,10]\n",
        "a=sum(l)\n",
        "p=len(l)\n",
        "print(a//p)\n",
        "print(sum(l)//len(l))'''\n",
        "\n",
        "#Sort\n",
        "'''l=[123,569,895,25,458,403,892]\n",
        "l.sort()\n",
        "print(l)         #asc\n",
        "print(sorted(l,reverse=True))       #des    '''\n",
        "\n",
        "#Add element in list\n",
        "'''#------->append for element at last position\n",
        "l=[10,20,30,40,50]\n",
        "l.append(60)\n",
        "print(l)\n",
        "#-------->insert for element at specific index\n",
        "l.insert(1,15)\n",
        "print(l)\n",
        "#------\n",
        "\n",
        "#if it is out of bound the element is stored at last\n",
        "l.insert(90,200)\n",
        "print(l)'''\n",
        "\n",
        "#extend\n",
        "\n",
        "'''l=[10,20,30,40,50,60,70]\n",
        "l1=[80,90,100,110,120,130]\n",
        "l.extend(l1)\n",
        "print(l)'''\n",
        "\n",
        "#delete\n",
        "'''l1=[80,90,100,110,120,130]\n",
        "l1.pop(2)        #------>pop() delete end of the element or index specific value\n",
        "print(l1)\n",
        "l1.remove(90)    #------->remove(pass a value)\n",
        "print(l1)'''\n",
        "\n",
        "#Reverse\n",
        "'''l1=[80,90,100,110,120,130]\n",
        "l1.reverse()     #method 1\n",
        "print(l1)'''\n",
        "\n",
        "#Slicing and Indexing\n",
        "'''L=[80,90,100,110,120,130]\n",
        "#print(l[::-1])\n",
        "print(L[1:4:1])'''\n",
        "\n",
        "\n"
      ],
      "metadata": {
        "colab": {
          "base_uri": "https://localhost:8080/"
        },
        "id": "6_WbUVfa4Jps",
        "outputId": "5b072c73-7df4-4c87-a441-9fa63846cf13"
      },
      "execution_count": 235,
      "outputs": [
        {
          "output_type": "stream",
          "name": "stdout",
          "text": [
            "[130, 120, 110, 100]\n"
          ]
        }
      ]
    }
  ]
}