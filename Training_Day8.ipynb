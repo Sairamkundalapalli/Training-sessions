{
  "nbformat": 4,
  "nbformat_minor": 0,
  "metadata": {
    "colab": {
      "provenance": [],
      "authorship_tag": "ABX9TyPXfe9V7gErINduzFQ4+Zmq",
      "include_colab_link": true
    },
    "kernelspec": {
      "name": "python3",
      "display_name": "Python 3"
    },
    "language_info": {
      "name": "python"
    }
  },
  "cells": [
    {
      "cell_type": "markdown",
      "metadata": {
        "id": "view-in-github",
        "colab_type": "text"
      },
      "source": [
        "<a href=\"https://colab.research.google.com/github/Sairamkundalapalli/Training-sessions/blob/main/Training_Day8.ipynb\" target=\"_parent\"><img src=\"https://colab.research.google.com/assets/colab-badge.svg\" alt=\"Open In Colab\"/></a>"
      ]
    },
    {
      "cell_type": "code",
      "execution_count": null,
      "metadata": {
        "colab": {
          "base_uri": "https://localhost:8080/"
        },
        "id": "z_X6mK0Wv4WS",
        "outputId": "4d936111-86ba-44bd-e8c5-e99efa121958"
      },
      "outputs": [
        {
          "output_type": "stream",
          "name": "stdout",
          "text": [
            "abcd\n",
            "A-Bb-Ccc-Dddd\n"
          ]
        }
      ],
      "source": [
        "#input 5\n",
        "# 1\n",
        "# 2\n",
        "# 3\n",
        "# 4\n",
        "# 5\n",
        "# output/9\n",
        "'''n=int(input())\n",
        "l=[1,2,3,4,5]\n",
        "l.sort()\n",
        "l.pop(0)\n",
        "l.pop()\n",
        "print(sum(l))'''\n",
        "\n",
        "'''n,l=int(input()),[]\n",
        "for i in range(n):\n",
        "  i =int(input())\n",
        "  l.append(i)\n",
        "print(sum(sorted(l)[1:-1]) if l else 0)'''\n",
        "\n",
        "'''\n",
        "\"25\"\n",
        "\"46\"\n",
        "a=\"25\"\n",
        "b=\"46\"\n",
        "c=int(a)\n",
        "d=int(b)\n",
        "e=c+d\n",
        "f=str(e)\n",
        "print(f)'''\n",
        "\n",
        "\n",
        "'''123456\n",
        "(246,123)\n",
        "n=123456\n",
        "a,b=[],[]\n",
        "for i in range(1,7):\n",
        "  if i%2==0:\n",
        "    a.append(i)\n",
        "  else:\n",
        "    b.append(i)\n",
        "print(\"(\",*a,\")\",\",\",\"(\",*b,\")\")'''\n",
        "\n",
        "\n",
        "'''\n",
        "n=int(input())\n",
        "even=\"\".join([i for i in str(n) if int(i)%2==0])\n",
        "odd=\"\".join([i for i in str(n) if int(i)%2!=0])\n",
        "a=int(even),int(odd)\n",
        "print(a)'''\n",
        "\n",
        "#abcd\n",
        "#A_Bb-Ccc-Dddd\n",
        "\n",
        "n=input()\n",
        "k=len(n)\n",
        "r=\"\"\n",
        "for i in range(k):\n",
        "    r+=(n[i]*(i+1))+\"-\"\n",
        "print(r.title()[:-1])"
      ]
    },
    {
      "cell_type": "code",
      "source": [
        "# Access Modifiers\n",
        "# ->These are used to restrict the access of variable and methods of a class.\n",
        "# ->secure the data from unauthorized users\n",
        "# ->we need to give _ symbol to determine access modifiers\n",
        "# ->public,protected,private\n",
        "# ->public:A variable or method declared should be easily accessed throughout the program.\n",
        "# ->protected: A variable or method declared as a protected should be accesible in derived or _base class\n",
        "# ->private:if a variable or a method should be declared as a private so it can be accessed with in the class\n",
        "\n",
        "#protected\n",
        "'''class Student:\n",
        "  def __init__(self,rno,name):\n",
        "    self._rno=rno\n",
        "    self.name=name\n",
        "\n",
        "  def display(self):\n",
        "    print(\"name:\",self.name)\n",
        "\n",
        "class Student1(Student):\n",
        "  def __init__(self,rno,name):\n",
        "    super().__init__(rno,name)\n",
        "\n",
        "  def display1(self):\n",
        "    print(\"rno:\",self._rno)\n",
        "    self.display()\n",
        "\n",
        "o=Student1(1234,\"Sai\")\n",
        "o.display1()'''\n",
        "\n",
        "\n",
        "#private\n",
        "'''class sample:\n",
        "  __p = 200  # Private attribute\n",
        "  def D(self):\n",
        "    print(\"private variable:\", self.__p)\n",
        "o = sample()\n",
        "o.D()\n",
        "#print(o.__p) #error occured '''\n",
        "\n"
      ],
      "metadata": {
        "colab": {
          "base_uri": "https://localhost:8080/",
          "height": 36
        },
        "id": "qcf-o-TdwJLp",
        "outputId": "3ec1d6c5-cc0c-4ae7-b842-28ee2e88030b"
      },
      "execution_count": null,
      "outputs": [
        {
          "output_type": "execute_result",
          "data": {
            "text/plain": [
              "'class sample:\\n  __p = 200  # Private attribute\\n  def D(self):\\n    print(\"private variable:\", self.__p)\\no = sample()\\no.D()\\n#print(o.__p) #error occured '"
            ],
            "application/vnd.google.colaboratory.intrinsic+json": {
              "type": "string"
            }
          },
          "metadata": {},
          "execution_count": 30
        }
      ]
    },
    {
      "cell_type": "markdown",
      "source": [
        "#**ENCAPSULATION**"
      ],
      "metadata": {
        "id": "rdrUh5Oa_afX"
      }
    },
    {
      "cell_type": "code",
      "source": [
        "# ->Rapping of data and code into single unit.\n",
        "# ->it is used to put restictions on accessing variables and methods.\n",
        "# ->we can acheive encapsulation by creating the variable as private.\n",
        "# we have two methods setter() ad getter().\n",
        "# setter method is used to set the values to private variables.\n",
        "# getter method is used to get the setted values.\n",
        "\n",
        "class S:\n",
        "  __name=\"\"\n",
        "  __rno=0\n",
        "  __branch=\"\"\n",
        "  def setter(self,name,rno,branch):\n",
        "    self.name=name\n",
        "    self.rno=rno\n",
        "    self.branch=branch\n",
        "  def getter(self):\n",
        "    print(\"name:\",self.name)\n",
        "    print(\"rno:\",self.rno)\n",
        "    print(\"branch:\",self.branch)\n",
        "o=S()\n",
        "o.setter(\"sai ram\",1707,\"CSE\")\n",
        "o.getter()"
      ],
      "metadata": {
        "colab": {
          "base_uri": "https://localhost:8080/"
        },
        "id": "hSYcqFbP_f-Y",
        "outputId": "2d05b2f3-3eef-4e91-96b0-9f53702564f0"
      },
      "execution_count": null,
      "outputs": [
        {
          "output_type": "stream",
          "name": "stdout",
          "text": [
            "name: sai ram\n",
            "rno: 1707\n",
            "branch: CSE\n"
          ]
        }
      ]
    },
    {
      "cell_type": "markdown",
      "source": [
        "#**ABSTRACTION**"
      ],
      "metadata": {
        "id": "QM0nb7dwJwGX"
      }
    },
    {
      "cell_type": "code",
      "source": [
        "# ->It is the process of hiding unwanted details and showing o/p\n",
        "# -> In python we can acheive abstraction by abstract classes and abstract methods in program\n",
        "# ->abstract class:we cant access obj class by creating object\n",
        "# ->abstract method:this class inside the abstract class dont have body of the function subclass function must be overridden\n",
        "\n",
        "from abc import ABC,abstractmethod\n",
        "class addition(ABC):\n",
        "  #abstractMethod\n",
        "  def add(self,a,b):\n",
        "    pass\n",
        "  def great(self):\n",
        "    print(\"hello world\")\n",
        "class Arithmetic(addition):\n",
        "  def add(Self,a,b):\n",
        "    print(a+b)\n",
        "class ADD(addition):\n",
        "  def add(Self,a,b):\n",
        "    print(a+b)\n",
        "o=Arithmetic()\n",
        "o.add(10,20)\n",
        "o.great()\n",
        "\n",
        "\n"
      ],
      "metadata": {
        "id": "ExqViGyvJvkq",
        "colab": {
          "base_uri": "https://localhost:8080/"
        },
        "outputId": "fc2ddc46-ca60-44b1-b268-96df8fdfc231"
      },
      "execution_count": null,
      "outputs": [
        {
          "output_type": "stream",
          "name": "stdout",
          "text": [
            "30\n",
            "hello world\n"
          ]
        }
      ]
    },
    {
      "cell_type": "markdown",
      "source": [
        "#**Linked List**"
      ],
      "metadata": {
        "id": "IJVwN0sLys1a"
      }
    },
    {
      "cell_type": "code",
      "source": [
        "# consists of two nodes data and address\n",
        "class Node:\n",
        "  def __init__(self,data):\n",
        "    self.data=data\n",
        "    self.next=None\n",
        "class LinkedList:\n",
        "  def __init__(self):\n",
        "    self.head=None\n",
        "  def insertatEnd(self,data):\n",
        "    new_node=Node(data)\n",
        "    if self.head is None:\n",
        "      self.head=new_node\n",
        "    else:\n",
        "      temp=self.head\n",
        "      while temp.next is not None:\n",
        "        temp=temp.next\n",
        "      temp.next=new_node\n",
        "  def display(self):\n",
        "    temp=self.head\n",
        "    while temp is not None:\n",
        "      print(temp.data,end=\" \")\n",
        "      temp=temp.next\n",
        "    print()\n",
        "l=LinkedList()\n",
        "l.insertatEnd(10)\n",
        "l.insertatEnd(20)\n",
        "l.insertatEnd(30)\n",
        "l.insertatEnd(40)\n",
        "l.display()\n",
        "\n",
        "\n",
        "\n"
      ],
      "metadata": {
        "colab": {
          "base_uri": "https://localhost:8080/"
        },
        "id": "x0AQq9_Ky4ol",
        "outputId": "19c2bbf2-e952-41a0-e021-b87a52489afe"
      },
      "execution_count": null,
      "outputs": [
        {
          "output_type": "stream",
          "name": "stdout",
          "text": [
            "10 20 30 \n"
          ]
        }
      ]
    },
    {
      "cell_type": "markdown",
      "source": [
        "# Memory Mapping"
      ],
      "metadata": {
        "id": "va0GbsIMEIH3"
      }
    },
    {
      "cell_type": "code",
      "source": [],
      "metadata": {
        "id": "lzc4ts0SEDVe"
      },
      "execution_count": null,
      "outputs": []
    }
  ]
}