{
  "nbformat": 4,
  "nbformat_minor": 0,
  "metadata": {
    "colab": {
      "provenance": [],
      "authorship_tag": "ABX9TyOEQouE5JTyIGJ7Of0UMH1/",
      "include_colab_link": true
    },
    "kernelspec": {
      "name": "python3",
      "display_name": "Python 3"
    },
    "language_info": {
      "name": "python"
    }
  },
  "cells": [
    {
      "cell_type": "markdown",
      "metadata": {
        "id": "view-in-github",
        "colab_type": "text"
      },
      "source": [
        "<a href=\"https://colab.research.google.com/github/Sairamkundalapalli/Training-sessions/blob/main/Training_day2.ipynb\" target=\"_parent\"><img src=\"https://colab.research.google.com/assets/colab-badge.svg\" alt=\"Open In Colab\"/></a>"
      ]
    },
    {
      "cell_type": "code",
      "execution_count": null,
      "metadata": {
        "colab": {
          "base_uri": "https://localhost:8080/"
        },
        "id": "1gk7Pt0OrltU",
        "outputId": "521bcc2b-4fde-4682-d2da-ff1a3ac8cac8"
      },
      "outputs": [
        {
          "output_type": "stream",
          "name": "stdout",
          "text": [
            "5.0\n",
            "False\n",
            "True\n",
            "5.0\n",
            "False\n",
            "True\n",
            "True\n",
            "False\n",
            "True\n",
            "False\n",
            "True\n",
            "True\n",
            "False\n"
          ]
        }
      ],
      "source": [
        "#Assignment operator---------------==-------------\n",
        "# ==\n",
        "a=5\n",
        "b=10\n",
        "a+=b\n",
        "a-=10\n",
        "a*=10\n",
        "a/=10\n",
        "print(a)\n",
        "\n",
        "#identity operator--------------------is/is not---------\n",
        "a=10\n",
        "b=20\n",
        "print(a is b)\n",
        "print(a is not b)\n",
        "c=[10,23,\"hello\"]\n",
        "\n",
        "#Assignment operator---------------==-------------\n",
        "# ==\n",
        "a=5\n",
        "b=10\n",
        "a+=b\n",
        "a-=10\n",
        "a*=10\n",
        "a/=10\n",
        "print(a)\n",
        "\n",
        "#identity operator--------------------is/is not---------\n",
        "a=10\n",
        "b=20\n",
        "print(a is b)\n",
        "print(a is not b)\n",
        "c=[10,23,\"hello\"]\n",
        "d=[10,23,\"hello\"]\n",
        "print(c is not d)\n",
        "print(c is d)\n",
        "\n",
        "#Membership operator------------------in/not in-----------\n",
        "\n",
        "a=\"hello\"\n",
        "print(\"h\" in a)\n",
        "print(\"hl\" in a)\n",
        "print(\"helo\" not in a)\n",
        "\n",
        "l=[12,34,25,89,\"hello\"]\n",
        "print(\"hello\" in l)\n",
        "print(12 not in l)\n",
        "\n",
        "\n",
        "#note:arithmatic,assignment & bitwise are return decimal value rest are return to bool"
      ]
    },
    {
      "cell_type": "markdown",
      "source": [
        "# Control Statements\n",
        "\n",
        "\n",
        "\n",
        "1.   Conditional Statement\n",
        "2.   Looping Statement\n",
        "3.   Unconditional\n",
        "\n",
        "\n",
        "\n",
        "\n"
      ],
      "metadata": {
        "id": "NB9ziCbZ2H5x"
      }
    },
    {
      "cell_type": "code",
      "source": [
        "#1Conditional Statement\n",
        "#it is also known as branching statements.it will ecxecute block of statements based on a condition\n",
        "      #simple if\n",
        "      #if/else\n",
        "      #nested if\n",
        "      #if/elif\n",
        "      #if/elif/ladder\n",
        "      #match\n",
        "\n",
        "#simple if\n",
        "\"\"\"age=int(input(\"Enter the value:\"))\n",
        "if age==18:\n",
        "  print(\"you are eligible\")\"\"\"\n",
        "\n",
        "#if/else\n",
        "\"\"\"age=int(input(\"Enter the value:\"))\n",
        "if age>=18:\n",
        "  print(\"you are eligible\")\n",
        "else:\n",
        "  print(\"you are not eligible\")\"\"\"\n",
        "\n",
        "#if/elif\n",
        "\"\"\"age=int(input(\"Enter the value:\"))\n",
        "if age>=18:\n",
        "  print(\"you are eligible\")\n",
        "elif age<18:\n",
        "  print(\"you are not eligible\")\n",
        "else:\n",
        "  print(\"invalid input\")\"\"\"\n",
        "\n",
        "#if/elif/ladder\n",
        "\"\"\"a=int(input())\n",
        "if a==1:\n",
        "  print(\"sunday\")\n",
        "elif a==2:\n",
        "  print(\"monday\")\n",
        "elif a==3:\n",
        "  print(\"tuesday\")\n",
        "elif a==4:\n",
        "  print(\"wednesday\")\n",
        "elif a==5:\n",
        "  print(\"thursday\")\n",
        "elif a==6:\n",
        "  print(\"friday\")\n",
        "elif a==7:\n",
        "  print(\"saturday\")\n",
        "else:\n",
        "  print(\"Invalid Value\")\"\"\"\n",
        "\n",
        "#match is an alter of if/elif.it works same as switch statement\n",
        "a=int(input())\n",
        "match a:\n",
        "  case 1:\n",
        "    print(\"sunday\")\n",
        "  case 2:\n",
        "    print(\"monday\")\n",
        "  case 3:\n",
        "    print(\"tuesday\")\n",
        "  case 4:\n",
        "    print(\"wednesday\")\n",
        "  case 5:\n",
        "    print(\"thursday\")\n",
        "  case 6:\n",
        "    print(\"friday\")\n",
        "  case 7:\n",
        "    print(\"saturday\")\n",
        "  case _:\n",
        "    print(\"Invalid Value\")\n",
        "\n",
        "\"\"\"a=int(input())\n",
        "l=[\"Monday\",\"Tuesday\",\"Wednesday\",\"Thursday\",\"Friday\",\"Saturday\",\"Sunday\",\"Invalid Value\"]\n",
        "if(a>=8):\n",
        "  print(l[-1])\n",
        "else:\n",
        "  print(l[a])\"\"\"\n",
        "\n"
      ],
      "metadata": {
        "colab": {
          "base_uri": "https://localhost:8080/"
        },
        "id": "XgCEOAyt2G_G",
        "outputId": "2ba0a2dd-cd52-45ef-9e76-2d352d0ead41"
      },
      "execution_count": null,
      "outputs": [
        {
          "output_type": "stream",
          "name": "stdout",
          "text": [
            "6\n",
            "friday\n"
          ]
        }
      ]
    },
    {
      "cell_type": "code",
      "source": [
        "#swaping 2 number without using temp\n",
        "a=10\n",
        "b=15\n",
        "a=a^b\n",
        "b=a^b\n",
        "a=a^b\n",
        "print(a)\n",
        "print(b)\n",
        "\n",
        "a=int(input())\n",
        "l=[\"Monday\",\"Tuesday\",\"Wednesday\",\"Thursday\",\"Friday\",\"Saturday\",\"Sunday\",\"Invalid Value\"]\n",
        "if(a>=8):\n",
        "  print(l[-1])\n",
        "else:\n",
        "  print(l[a])\n"
      ],
      "metadata": {
        "colab": {
          "base_uri": "https://localhost:8080/"
        },
        "id": "E7tp51r9CDMS",
        "outputId": "2cee0b8f-ed58-4b5d-cf1b-3542eeb2b637"
      },
      "execution_count": null,
      "outputs": [
        {
          "output_type": "stream",
          "name": "stdout",
          "text": [
            "63\n",
            "Invalid Value\n"
          ]
        }
      ]
    },
    {
      "cell_type": "markdown",
      "source": [
        "#Looping Statements:\n",
        "  it is also known as iteractive control statements.it will execute the block of code repeatedly.\n",
        "\n",
        "*   For\n",
        "*   While\n",
        "\n",
        "\n",
        "\n",
        "\n"
      ],
      "metadata": {
        "id": "yUOQOWNrpUO0"
      }
    },
    {
      "cell_type": "code",
      "source": [
        "a=int(input())\n",
        "for i in range(1,a+1,2):\n",
        "  print(i,end=\" \")"
      ],
      "metadata": {
        "colab": {
          "base_uri": "https://localhost:8080/"
        },
        "id": "Pj8QjmJ0uMjg",
        "outputId": "4da317d4-66a8-4b3a-aad1-a433e9753422"
      },
      "execution_count": 62,
      "outputs": [
        {
          "output_type": "stream",
          "name": "stdout",
          "text": [
            "123\n",
            "1 3 5 7 9 11 13 15 17 19 21 23 25 27 29 31 33 35 37 39 41 43 45 47 49 51 53 55 57 59 61 63 65 67 69 71 73 75 77 79 81 83 85 87 89 91 93 95 97 99 101 103 105 107 109 111 113 115 117 119 121 123 "
          ]
        }
      ]
    },
    {
      "cell_type": "code",
      "source": [
        "a=int(input())\n",
        "digits=0\n",
        "if a==0:\n",
        "     digits=1;\n",
        "else:\n",
        "  while(a!=0):\n",
        "    a=a//10\n",
        "      digits+=1\n",
        "print(digits)"
      ],
      "metadata": {
        "id": "qYGJ_bx1uemt",
        "colab": {
          "base_uri": "https://localhost:8080/"
        },
        "outputId": "b2efc2e5-70cd-4c51-f189-198d70216ca0"
      },
      "execution_count": 64,
      "outputs": [
        {
          "output_type": "stream",
          "name": "stdout",
          "text": [
            "1345\n",
            "4\n"
          ]
        }
      ]
    },
    {
      "cell_type": "markdown",
      "source": [
        "# Unconditional Statements"
      ],
      "metadata": {
        "id": "KXNjzqKdzF0A"
      }
    },
    {
      "cell_type": "code",
      "source": [
        "a=int(input())\n",
        "for i in range(a+1):\n",
        "  print(i,end=\" \")\n",
        "  if(i==5):\n",
        "    break"
      ],
      "metadata": {
        "colab": {
          "base_uri": "https://localhost:8080/"
        },
        "id": "95_wtCeozdw5",
        "outputId": "8259ab80-5d21-4bbe-90f7-86db67d32b16"
      },
      "execution_count": 65,
      "outputs": [
        {
          "output_type": "stream",
          "name": "stdout",
          "text": [
            "85\n",
            "0 1 2 3 4 5 "
          ]
        }
      ]
    },
    {
      "cell_type": "code",
      "source": [
        "a=int(input())\n",
        "for i in range(a+1):\n",
        "  if(i%2==0):\n",
        "    continue\n",
        "  else:\n",
        "    print(i,end=\" \")"
      ],
      "metadata": {
        "colab": {
          "base_uri": "https://localhost:8080/"
        },
        "id": "MnVuTXltzzNR",
        "outputId": "aee987ff-ce4a-4329-d2a3-b290583c98c5"
      },
      "execution_count": 73,
      "outputs": [
        {
          "output_type": "stream",
          "name": "stdout",
          "text": [
            "12\n",
            "1 3 5 7 9 11 "
          ]
        }
      ]
    },
    {
      "cell_type": "code",
      "source": [
        "n=int(input())\n",
        "#s=(n*(n+1)//2)\n",
        "# print((n**2+n)//2)\n",
        "sum=0\n",
        "for i in range(1,n+1):\n",
        "  sum+=i\n",
        "print(sum,end=\" \")\n"
      ],
      "metadata": {
        "colab": {
          "base_uri": "https://localhost:8080/"
        },
        "id": "xczbUSxH1SNp",
        "outputId": "7ad5bb1b-3a58-4b1b-cabe-16cc639e3aa0"
      },
      "execution_count": 93,
      "outputs": [
        {
          "output_type": "stream",
          "name": "stdout",
          "text": [
            "13\n",
            "91 "
          ]
        }
      ]
    },
    {
      "cell_type": "markdown",
      "source": [
        "## APPLICATION PROBLEM"
      ],
      "metadata": {
        "id": "vJHc6FNR4ua2"
      }
    },
    {
      "cell_type": "code",
      "source": [
        "print(\"Welcome to ATM\")\n",
        "pin=int(input(\"Enter the pin:\"))\n",
        "if(pin>1 and pin<9):\n",
        "  print(\"User \")\n",
        "\n"
      ],
      "metadata": {
        "colab": {
          "base_uri": "https://localhost:8080/"
        },
        "id": "XtlI_jop4tti",
        "outputId": "e81ccf54-5d2f-47fb-b357-9d05d26a2a36"
      },
      "execution_count": 95,
      "outputs": [
        {
          "output_type": "stream",
          "name": "stdout",
          "text": [
            "Welcome to ATM\n"
          ]
        }
      ]
    }
  ]
}