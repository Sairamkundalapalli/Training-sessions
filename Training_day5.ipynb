{
  "nbformat": 4,
  "nbformat_minor": 0,
  "metadata": {
    "colab": {
      "provenance": [],
      "authorship_tag": "ABX9TyOt2VwdyATdSm/6ojlKjLlt",
      "include_colab_link": true
    },
    "kernelspec": {
      "name": "python3",
      "display_name": "Python 3"
    },
    "language_info": {
      "name": "python"
    }
  },
  "cells": [
    {
      "cell_type": "markdown",
      "metadata": {
        "id": "view-in-github",
        "colab_type": "text"
      },
      "source": [
        "<a href=\"https://colab.research.google.com/github/Sairamkundalapalli/Training-sessions/blob/main/Training_day5.ipynb\" target=\"_parent\"><img src=\"https://colab.research.google.com/assets/colab-badge.svg\" alt=\"Open In Colab\"/></a>"
      ]
    },
    {
      "cell_type": "code",
      "execution_count": null,
      "metadata": {
        "colab": {
          "base_uri": "https://localhost:8080/"
        },
        "id": "05f4kxKLLFab",
        "outputId": "a48d41d0-c04a-4377-d57c-c524c81fbf6c"
      },
      "outputs": [
        {
          "output_type": "stream",
          "name": "stdout",
          "text": [
            "1 2 3 4 5\n",
            "6\n",
            "3 4\n"
          ]
        }
      ],
      "source": [
        "l=list(map(int,input().split(\" \")))\n",
        "target=int(input())\n",
        "x,y=[],[]\n",
        "for i in range(len(l)):\n",
        "    for j in range(i+1,len(l)):\n",
        "      if (l[i]+l[j==target]):\n",
        "        x.append(i)\n",
        "        y.append(j)\n",
        "if (len(x)>1 and len(y)>1):\n",
        "  print(x[-1],y[-1])\n",
        "elif (len(x)==1 and len(y)==1):\n",
        "  print(x[0],y[0])\n",
        "else:\n",
        "  print(-1)\n",
        "\n"
      ]
    },
    {
      "cell_type": "code",
      "source": [
        "#sum of max pair\n",
        "n=[1,2,3,4,5]\n",
        "target=int(input())\n",
        "x,y=[],[]\n",
        "for i in range(len(n)):\n",
        "  for j in range(i+1,len(n)):\n",
        "    if n[i]+n[j]==target:\n",
        "      x.append(n[i])\n",
        "    #  x.append(i)\n",
        "    #  y.append(j)\n",
        "     y.append(n[j])\n",
        "if len(x)>1 and len(y)>1:\n",
        "  print(x[-1],y[-1])\n",
        "elif len(x)==1 and len(y)==1:\n",
        "  print(x[0],y[0])\n",
        "else:\n",
        "  print(\"no pair\")\n"
      ],
      "metadata": {
        "colab": {
          "base_uri": "https://localhost:8080/"
        },
        "id": "UIVj9kxzO3-K",
        "outputId": "7230ebf0-18de-4c6b-898c-8f86094d747c"
      },
      "execution_count": null,
      "outputs": [
        {
          "output_type": "stream",
          "name": "stdout",
          "text": [
            "6\n",
            "1 3\n"
          ]
        }
      ]
    },
    {
      "cell_type": "code",
      "source": [
        "l=list(map(int,input().split(\" \")))\n",
        "k=int(input())\n",
        "k=k%len(l)\n",
        "print(l[-k:]+l[:-k])"
      ],
      "metadata": {
        "colab": {
          "base_uri": "https://localhost:8080/"
        },
        "id": "veGg8IP0UT4P",
        "outputId": "0820fe93-d2bd-4eb4-9b63-29f965fbea93"
      },
      "execution_count": null,
      "outputs": [
        {
          "output_type": "stream",
          "name": "stdout",
          "text": [
            "1 2 3 4 5\n",
            "3\n",
            "[3, 4, 5, 1, 2]\n"
          ]
        }
      ]
    },
    {
      "cell_type": "markdown",
      "source": [
        "#**SETS**"
      ],
      "metadata": {
        "id": "VF-MxauwXeeQ"
      }
    },
    {
      "cell_type": "code",
      "source": [
        "# ----------> {}\n",
        "# ---------->unorder,immutable,doesnot allow duplicate values\n",
        "\n",
        "#creation of set\n",
        "'''s={10,20,30,\"abc\",45,89}\n",
        "print(s)\n",
        "print(type(s))\n",
        "print(10 in s)\n",
        "print(100 not in s)'''\n",
        "\n",
        "\n",
        "#update\n",
        "'''s={10,20,30,\"abc\",45,89}\n",
        "# s1=[100,200,123]\n",
        "# s1=(100,200,123)\n",
        "s1={100,200,123}\n",
        "s.update(s1)\n",
        "print(s)'''\n",
        "\n",
        "#discard\n",
        "'''s={10,20,225,486,786,214,120}\n",
        "s.discard(10)\n",
        "print(s)'''\n",
        "\n",
        "#remove\n",
        "'''s={10,20,225,486,786,214,120}\n",
        "s.remove(20)\n",
        "print(s)'''\n",
        "\n",
        "#pop()\n",
        "'''s={10,20,225,486,786,214,120,\"abc\"}\n",
        "s.pop()\n",
        "print(s)'''\n",
        "\n",
        "#union\n",
        "'''s={1,2,3,4,5,6}\n",
        "s2={7,8,9,3,4,5}\n",
        "s1=s.union(s2)\n",
        "print(s1)'''\n",
        "\n",
        "#intersection\n",
        "'''s={1,2,3,4,5,6}\n",
        "s2={2,4,6,8}\n",
        "s1=s.intersection(s2)\n",
        "print(s1)'''\n",
        "\n",
        "#difference\n",
        "'''s={10,20,30,40,50}\n",
        "s1={10,30,50,80}\n",
        "s2=s.difference(s1)\n",
        "print(s2)'''\n",
        "\n",
        "#clear()\n",
        "'''s={10,20,30,40,50,\"abc\"}\n",
        "s.clear()\n",
        "print(s)'''\n"
      ],
      "metadata": {
        "colab": {
          "base_uri": "https://localhost:8080/",
          "height": 36
        },
        "id": "9udebhQdXn6a",
        "outputId": "1e37355c-5bae-4841-8ea2-5698ba04e368"
      },
      "execution_count": null,
      "outputs": [
        {
          "output_type": "execute_result",
          "data": {
            "text/plain": [
              "'s={10,20,30,40,50,\"abc\"}\\ns.clear()\\nprint(s)'"
            ],
            "application/vnd.google.colaboratory.intrinsic+json": {
              "type": "string"
            }
          },
          "metadata": {},
          "execution_count": 52
        }
      ]
    },
    {
      "cell_type": "markdown",
      "source": [
        "#**STRINGS**"
      ],
      "metadata": {
        "id": "pS8hSWijpllS"
      }
    },
    {
      "cell_type": "code",
      "source": [
        "# concatenated String\n",
        "'''s=input()\n",
        "s1=input()\n",
        "s2=s+s1\n",
        "print(s2)\n",
        "\n",
        "#split()\n",
        "s=\"hello\"\n",
        "l=s.split()\n",
        "print(\" \".join((l*5)))'''\n",
        "\n",
        "#indexing\n",
        "'''s=\"hello world\"\n",
        "print(s[0])\n",
        "print(s[len(s)-1])\n",
        "print(s[::])\n",
        "print(s[3::])\n",
        "print(s[::2])\n",
        "print(s[:5:])\n",
        "print(s[::3])\n",
        "print(s[::-1])\n",
        "print(s[1:8:2])'''\n",
        "\n",
        "#remove spaces strip()\n",
        "'''s=\"    hello world     \"\n",
        "print(s.strip())           #entire space\n",
        "print(s.lstrip())          #leftspace\n",
        "print(s.rstrip())          #rightspace'''\n",
        "\n",
        "#find index\n",
        "'''s=\"Hello World\"                          # if found it returs else return -1 in find method\n",
        "print(s.find(\"H\"))\n",
        "print(s.rfind(\"H\"))\n",
        "print(s.index(\"H\"))\n",
        "print(s.rindex(\"H\"))'''\n",
        "\n",
        "#replace string\n",
        "'''s=\"hello World\"\n",
        "#s1=s.replace(\"h\",\"H\")\n",
        "#s1=s.replace(\"World\",\"universe\")\n",
        " s1=s.replace(\" \",\"\")\n",
        "print(s1)'''\n",
        "\n",
        "#isfunctions\n",
        "'''s=\"Hello World Good Morning\"\n",
        "print(s.isupper())\n",
        "print(s.islower())\n",
        "print(s.isalnum())\n",
        "print(s.istitle())\n",
        "print(s.isspace())'''\n",
        "\n",
        "#inbuit functions\n",
        "s=\"hello hoW aRe u\"\n",
        "print(s.upper())\n",
        "print(s.lower())\n",
        "print(s.title())\n",
        "print(s.capitalize())\n",
        "print(s.swapcase())\n",
        "print(s.startswith(\"hel\"))\n",
        "print(s.endswith(\"u\"))\n",
        "\n"
      ],
      "metadata": {
        "colab": {
          "base_uri": "https://localhost:8080/"
        },
        "id": "dt1vAiq9ax94",
        "outputId": "b777eb7c-3e4a-4e5b-cccd-12ba82cb2db1"
      },
      "execution_count": 8,
      "outputs": [
        {
          "output_type": "stream",
          "name": "stdout",
          "text": [
            "HELLO HOW ARE U\n",
            "hello how are u\n",
            "Hello How Are U\n",
            "Hello how are u\n",
            "HELLO HOw ArE U\n",
            "True\n",
            "True\n"
          ]
        }
      ]
    },
    {
      "cell_type": "code",
      "source": [
        "#Reverse of the string\n",
        "s=\"Abhinav\"\n",
        "r=\"\"\n",
        "# print(s[::-1])\n",
        "\n",
        "# l=list(s)\n",
        "# l.reverse()\n",
        "# print(r.join(l))\n",
        "\n",
        "for i in range(1,len(s)+1):\n",
        "  r+=s[-i]\n",
        "print(r)\n"
      ],
      "metadata": {
        "colab": {
          "base_uri": "https://localhost:8080/"
        },
        "id": "vGRvzyk8KHvW",
        "outputId": "e258a7c0-a27e-4240-e8f0-a09ebf3732e2"
      },
      "execution_count": 27,
      "outputs": [
        {
          "output_type": "stream",
          "name": "stdout",
          "text": [
            "palindrome\n"
          ]
        }
      ]
    },
    {
      "cell_type": "markdown",
      "source": [
        "#**Functions**"
      ],
      "metadata": {
        "id": "eGxdWZ8dNPPH"
      }
    },
    {
      "cell_type": "code",
      "source": [
        "#\n",
        "# ---------->it executes the block of code when we required function\n",
        "# ---------->there are two types of functions\n",
        "# ---------->whenever we are writing functions we have to remember funcn declaration,defination,calling\n",
        "# ---------->def keywoard and parameterd and non parameterd functions\n",
        "#----------->no need to return bcoz it is completely oop language\n",
        "\n",
        "\n",
        "#a function without return\n",
        "'''def first():\n",
        "  {\n",
        "      print(\"good afternoon\")\n",
        "  }\n",
        "first()'''\n",
        "\n",
        "#with return\n",
        "'''def first():\n",
        "  return \"good afternoon\"\n",
        "print(first())'''\n",
        "\n",
        "\n",
        "#square of function\n",
        "'''def square(n):\n",
        "  return n*n\n",
        "print(square(5))\n",
        "print(square(15))'''\n",
        "\n",
        "#Addition with user input global\n",
        "'''def add(a,b):\n",
        "  return a+b\n",
        "x=int(input())\n",
        "y=int(input())\n",
        "c=add(x,y)\n",
        "print(c)'''\n",
        "\n",
        "#Addition with user input local\n",
        "'''def addition():\n",
        "  a=int(input())\n",
        "  b=int(input())\n",
        "  return a+b\n",
        "def subtraction():\n",
        "  return a-b\n",
        "def multiplication():\n",
        "  return a*b\n",
        "def division():\n",
        "  print(a/b)\n",
        "\n",
        "a=int(input(\"Enter a:\"))\n",
        "b=int(input(\"enter b:\"))\n",
        "m=addition()\n",
        "n=subtraction()\n",
        "print(\"addition :\",m)\n",
        "print(\"subtraction:\",n)\n",
        "print(multiplication())\n",
        "division()  '''\n",
        "\n",
        "\n",
        "#perform at a tym\n",
        "'''a=int(input())\n",
        "b=int(input())\n",
        "def arithmetic():\n",
        "  return a+b,a-b,a*b,a/b\n",
        "print(arithmetic())'''\n",
        "\n",
        "# more no of parameters\n",
        "'''def sumofn(*n):\n",
        "  sum=0\n",
        "  for i in n:\n",
        "    sum+=i\n",
        "  print(sum)\n",
        "a=sumofn()\n",
        "a=sumofn(10,20,30,40,50,60)'''\n",
        "\n",
        "#lamda_Argument_List:Expression\n",
        "a=lambda a,b,c:a+b+c\n",
        "print(a(10,20,30))\n",
        "\n",
        "a=lambda a:a*a\n",
        "print(a(10))\n",
        "\n",
        "\n",
        "\n"
      ],
      "metadata": {
        "colab": {
          "base_uri": "https://localhost:8080/"
        },
        "id": "inTcGaRsNSx2",
        "outputId": "fde9a105-2a59-4122-ee56-4581684aa69b"
      },
      "execution_count": 55,
      "outputs": [
        {
          "output_type": "stream",
          "name": "stdout",
          "text": [
            "60\n",
            "100\n"
          ]
        }
      ]
    }
  ]
}